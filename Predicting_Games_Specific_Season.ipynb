{
 "cells": [
  {
   "cell_type": "code",
   "execution_count": 1,
   "id": "cd3d55ba",
   "metadata": {},
   "outputs": [],
   "source": [
    "## Importing required libraries\n",
    "import sqlite3\n",
    "import pandas as pd\n",
    "import numpy as np\n",
    "import seaborn as sns\n",
    "import itertools\n",
    "import matplotlib.pyplot as plt\n",
    "from sklearn.ensemble import GradientBoostingClassifier\n",
    "from sklearn.ensemble import AdaBoostClassifier \n",
    "from sklearn.ensemble import RandomForestClassifier\n",
    "from sklearn.naive_bayes import GaussianNB\n",
    "from sklearn.neighbors import KNeighborsClassifier\n",
    "from sklearn.linear_model import LogisticRegression\n",
    "from sklearn import linear_model\n",
    "from sklearn.metrics import confusion_matrix\n",
    "from sklearn.metrics import classification_report, accuracy_score\n",
    "from sklearn.calibration import CalibratedClassifierCV\n",
    "from sklearn import model_selection\n",
    "from sklearn.model_selection import train_test_split\n",
    "from sklearn.metrics import make_scorer\n",
    "from time import time\n",
    "from sklearn.decomposition import PCA, FastICA\n",
    "from sklearn.pipeline import Pipeline\n",
    "import warnings\n",
    "\n",
    "warnings.simplefilter(\"ignore\")"
   ]
  },
  {
   "cell_type": "code",
   "execution_count": 2,
   "id": "e33a8fb4",
   "metadata": {},
   "outputs": [],
   "source": [
    "database = 'database.sqlite'\n",
    "conn = sqlite3.connect(database)"
   ]
  },
  {
   "cell_type": "code",
   "execution_count": 3,
   "id": "e787d6dd",
   "metadata": {},
   "outputs": [],
   "source": [
    "#Fetching required data tables\n",
    "country_data = pd.read_sql(\"SELECT * FROM Country;\", conn)\n",
    "league_data = pd.read_sql(\"SELECT * FROM League;\", conn)\n",
    "match_data = pd.read_sql(\"SELECT * FROM Match;\", conn)\n",
    "player_data = pd.read_sql(\"SELECT * FROM Player;\", conn)\n",
    "player_attr_data = pd.read_sql(\"SELECT * FROM Player_Attributes;\", conn)\n",
    "team_data = pd.read_sql(\"SELECT * FROM Team;\", conn)\n",
    "team_attr_data = pd.read_sql(\"SELECT * FROM Team_Attributes;\", conn)"
   ]
  },
  {
   "cell_type": "code",
   "execution_count": 4,
   "id": "bedd1c44",
   "metadata": {},
   "outputs": [],
   "source": [
    "match_2015_season = match_data[match_data['season'] == '2015/2016']\n",
    "epl_2015_season = match_2015_season[match_2015_season['country_id'] == 1729]"
   ]
  },
  {
   "cell_type": "code",
   "execution_count": 5,
   "id": "85f0c91e",
   "metadata": {},
   "outputs": [
    {
     "data": {
      "text/html": [
       "<div>\n",
       "<style scoped>\n",
       "    .dataframe tbody tr th:only-of-type {\n",
       "        vertical-align: middle;\n",
       "    }\n",
       "\n",
       "    .dataframe tbody tr th {\n",
       "        vertical-align: top;\n",
       "    }\n",
       "\n",
       "    .dataframe thead th {\n",
       "        text-align: right;\n",
       "    }\n",
       "</style>\n",
       "<table border=\"1\" class=\"dataframe\">\n",
       "  <thead>\n",
       "    <tr style=\"text-align: right;\">\n",
       "      <th></th>\n",
       "      <th>id</th>\n",
       "      <th>country_id</th>\n",
       "      <th>league_id</th>\n",
       "      <th>season</th>\n",
       "      <th>stage</th>\n",
       "      <th>date</th>\n",
       "      <th>match_api_id</th>\n",
       "      <th>home_team_api_id</th>\n",
       "      <th>away_team_api_id</th>\n",
       "      <th>home_team_goal</th>\n",
       "      <th>...</th>\n",
       "      <th>SJA</th>\n",
       "      <th>VCH</th>\n",
       "      <th>VCD</th>\n",
       "      <th>VCA</th>\n",
       "      <th>GBH</th>\n",
       "      <th>GBD</th>\n",
       "      <th>GBA</th>\n",
       "      <th>BSH</th>\n",
       "      <th>BSD</th>\n",
       "      <th>BSA</th>\n",
       "    </tr>\n",
       "  </thead>\n",
       "  <tbody>\n",
       "    <tr>\n",
       "      <th>4388</th>\n",
       "      <td>4389</td>\n",
       "      <td>1729</td>\n",
       "      <td>1729</td>\n",
       "      <td>2015/2016</td>\n",
       "      <td>1</td>\n",
       "      <td>2015-08-09 00:00:00</td>\n",
       "      <td>1987032</td>\n",
       "      <td>9825</td>\n",
       "      <td>8654</td>\n",
       "      <td>0</td>\n",
       "      <td>...</td>\n",
       "      <td>NaN</td>\n",
       "      <td>1.30</td>\n",
       "      <td>5.75</td>\n",
       "      <td>12.00</td>\n",
       "      <td>NaN</td>\n",
       "      <td>NaN</td>\n",
       "      <td>NaN</td>\n",
       "      <td>NaN</td>\n",
       "      <td>NaN</td>\n",
       "      <td>NaN</td>\n",
       "    </tr>\n",
       "    <tr>\n",
       "      <th>4389</th>\n",
       "      <td>4390</td>\n",
       "      <td>1729</td>\n",
       "      <td>1729</td>\n",
       "      <td>2015/2016</td>\n",
       "      <td>1</td>\n",
       "      <td>2015-08-08 00:00:00</td>\n",
       "      <td>1987033</td>\n",
       "      <td>8678</td>\n",
       "      <td>10252</td>\n",
       "      <td>0</td>\n",
       "      <td>...</td>\n",
       "      <td>NaN</td>\n",
       "      <td>2.00</td>\n",
       "      <td>3.50</td>\n",
       "      <td>4.20</td>\n",
       "      <td>NaN</td>\n",
       "      <td>NaN</td>\n",
       "      <td>NaN</td>\n",
       "      <td>NaN</td>\n",
       "      <td>NaN</td>\n",
       "      <td>NaN</td>\n",
       "    </tr>\n",
       "    <tr>\n",
       "      <th>4390</th>\n",
       "      <td>4391</td>\n",
       "      <td>1729</td>\n",
       "      <td>1729</td>\n",
       "      <td>2015/2016</td>\n",
       "      <td>1</td>\n",
       "      <td>2015-08-08 00:00:00</td>\n",
       "      <td>1987034</td>\n",
       "      <td>8455</td>\n",
       "      <td>10003</td>\n",
       "      <td>2</td>\n",
       "      <td>...</td>\n",
       "      <td>NaN</td>\n",
       "      <td>1.40</td>\n",
       "      <td>5.00</td>\n",
       "      <td>9.50</td>\n",
       "      <td>NaN</td>\n",
       "      <td>NaN</td>\n",
       "      <td>NaN</td>\n",
       "      <td>NaN</td>\n",
       "      <td>NaN</td>\n",
       "      <td>NaN</td>\n",
       "    </tr>\n",
       "    <tr>\n",
       "      <th>4391</th>\n",
       "      <td>4392</td>\n",
       "      <td>1729</td>\n",
       "      <td>1729</td>\n",
       "      <td>2015/2016</td>\n",
       "      <td>1</td>\n",
       "      <td>2015-08-08 00:00:00</td>\n",
       "      <td>1987035</td>\n",
       "      <td>8668</td>\n",
       "      <td>9817</td>\n",
       "      <td>2</td>\n",
       "      <td>...</td>\n",
       "      <td>NaN</td>\n",
       "      <td>1.73</td>\n",
       "      <td>3.90</td>\n",
       "      <td>5.40</td>\n",
       "      <td>NaN</td>\n",
       "      <td>NaN</td>\n",
       "      <td>NaN</td>\n",
       "      <td>NaN</td>\n",
       "      <td>NaN</td>\n",
       "      <td>NaN</td>\n",
       "    </tr>\n",
       "    <tr>\n",
       "      <th>4392</th>\n",
       "      <td>4393</td>\n",
       "      <td>1729</td>\n",
       "      <td>1729</td>\n",
       "      <td>2015/2016</td>\n",
       "      <td>1</td>\n",
       "      <td>2015-08-08 00:00:00</td>\n",
       "      <td>1987036</td>\n",
       "      <td>8197</td>\n",
       "      <td>8472</td>\n",
       "      <td>4</td>\n",
       "      <td>...</td>\n",
       "      <td>NaN</td>\n",
       "      <td>2.00</td>\n",
       "      <td>3.40</td>\n",
       "      <td>4.33</td>\n",
       "      <td>NaN</td>\n",
       "      <td>NaN</td>\n",
       "      <td>NaN</td>\n",
       "      <td>NaN</td>\n",
       "      <td>NaN</td>\n",
       "      <td>NaN</td>\n",
       "    </tr>\n",
       "    <tr>\n",
       "      <th>...</th>\n",
       "      <td>...</td>\n",
       "      <td>...</td>\n",
       "      <td>...</td>\n",
       "      <td>...</td>\n",
       "      <td>...</td>\n",
       "      <td>...</td>\n",
       "      <td>...</td>\n",
       "      <td>...</td>\n",
       "      <td>...</td>\n",
       "      <td>...</td>\n",
       "      <td>...</td>\n",
       "      <td>...</td>\n",
       "      <td>...</td>\n",
       "      <td>...</td>\n",
       "      <td>...</td>\n",
       "      <td>...</td>\n",
       "      <td>...</td>\n",
       "      <td>...</td>\n",
       "      <td>...</td>\n",
       "      <td>...</td>\n",
       "      <td>...</td>\n",
       "    </tr>\n",
       "    <tr>\n",
       "      <th>4763</th>\n",
       "      <td>4764</td>\n",
       "      <td>1729</td>\n",
       "      <td>1729</td>\n",
       "      <td>2015/2016</td>\n",
       "      <td>9</td>\n",
       "      <td>2015-10-17 00:00:00</td>\n",
       "      <td>1988795</td>\n",
       "      <td>8466</td>\n",
       "      <td>8197</td>\n",
       "      <td>2</td>\n",
       "      <td>...</td>\n",
       "      <td>NaN</td>\n",
       "      <td>1.75</td>\n",
       "      <td>3.90</td>\n",
       "      <td>5.00</td>\n",
       "      <td>NaN</td>\n",
       "      <td>NaN</td>\n",
       "      <td>NaN</td>\n",
       "      <td>NaN</td>\n",
       "      <td>NaN</td>\n",
       "      <td>NaN</td>\n",
       "    </tr>\n",
       "    <tr>\n",
       "      <th>4764</th>\n",
       "      <td>4765</td>\n",
       "      <td>1729</td>\n",
       "      <td>1729</td>\n",
       "      <td>2015/2016</td>\n",
       "      <td>9</td>\n",
       "      <td>2015-10-19 00:00:00</td>\n",
       "      <td>1988796</td>\n",
       "      <td>10003</td>\n",
       "      <td>10194</td>\n",
       "      <td>0</td>\n",
       "      <td>...</td>\n",
       "      <td>NaN</td>\n",
       "      <td>2.05</td>\n",
       "      <td>3.40</td>\n",
       "      <td>4.10</td>\n",
       "      <td>NaN</td>\n",
       "      <td>NaN</td>\n",
       "      <td>NaN</td>\n",
       "      <td>NaN</td>\n",
       "      <td>NaN</td>\n",
       "      <td>NaN</td>\n",
       "    </tr>\n",
       "    <tr>\n",
       "      <th>4765</th>\n",
       "      <td>4766</td>\n",
       "      <td>1729</td>\n",
       "      <td>1729</td>\n",
       "      <td>2015/2016</td>\n",
       "      <td>9</td>\n",
       "      <td>2015-10-17 00:00:00</td>\n",
       "      <td>1988797</td>\n",
       "      <td>8586</td>\n",
       "      <td>8650</td>\n",
       "      <td>0</td>\n",
       "      <td>...</td>\n",
       "      <td>NaN</td>\n",
       "      <td>2.45</td>\n",
       "      <td>3.50</td>\n",
       "      <td>3.00</td>\n",
       "      <td>NaN</td>\n",
       "      <td>NaN</td>\n",
       "      <td>NaN</td>\n",
       "      <td>NaN</td>\n",
       "      <td>NaN</td>\n",
       "      <td>NaN</td>\n",
       "    </tr>\n",
       "    <tr>\n",
       "      <th>4766</th>\n",
       "      <td>4767</td>\n",
       "      <td>1729</td>\n",
       "      <td>1729</td>\n",
       "      <td>2015/2016</td>\n",
       "      <td>9</td>\n",
       "      <td>2015-10-17 00:00:00</td>\n",
       "      <td>1988798</td>\n",
       "      <td>9817</td>\n",
       "      <td>9825</td>\n",
       "      <td>0</td>\n",
       "      <td>...</td>\n",
       "      <td>NaN</td>\n",
       "      <td>6.25</td>\n",
       "      <td>4.20</td>\n",
       "      <td>1.60</td>\n",
       "      <td>NaN</td>\n",
       "      <td>NaN</td>\n",
       "      <td>NaN</td>\n",
       "      <td>NaN</td>\n",
       "      <td>NaN</td>\n",
       "      <td>NaN</td>\n",
       "    </tr>\n",
       "    <tr>\n",
       "      <th>4767</th>\n",
       "      <td>4768</td>\n",
       "      <td>1729</td>\n",
       "      <td>1729</td>\n",
       "      <td>2015/2016</td>\n",
       "      <td>9</td>\n",
       "      <td>2015-10-17 00:00:00</td>\n",
       "      <td>1988799</td>\n",
       "      <td>8659</td>\n",
       "      <td>8472</td>\n",
       "      <td>1</td>\n",
       "      <td>...</td>\n",
       "      <td>NaN</td>\n",
       "      <td>2.05</td>\n",
       "      <td>3.30</td>\n",
       "      <td>4.20</td>\n",
       "      <td>NaN</td>\n",
       "      <td>NaN</td>\n",
       "      <td>NaN</td>\n",
       "      <td>NaN</td>\n",
       "      <td>NaN</td>\n",
       "      <td>NaN</td>\n",
       "    </tr>\n",
       "  </tbody>\n",
       "</table>\n",
       "<p>380 rows × 115 columns</p>\n",
       "</div>"
      ],
      "text/plain": [
       "        id  country_id  league_id     season  stage                 date  \\\n",
       "4388  4389        1729       1729  2015/2016      1  2015-08-09 00:00:00   \n",
       "4389  4390        1729       1729  2015/2016      1  2015-08-08 00:00:00   \n",
       "4390  4391        1729       1729  2015/2016      1  2015-08-08 00:00:00   \n",
       "4391  4392        1729       1729  2015/2016      1  2015-08-08 00:00:00   \n",
       "4392  4393        1729       1729  2015/2016      1  2015-08-08 00:00:00   \n",
       "...    ...         ...        ...        ...    ...                  ...   \n",
       "4763  4764        1729       1729  2015/2016      9  2015-10-17 00:00:00   \n",
       "4764  4765        1729       1729  2015/2016      9  2015-10-19 00:00:00   \n",
       "4765  4766        1729       1729  2015/2016      9  2015-10-17 00:00:00   \n",
       "4766  4767        1729       1729  2015/2016      9  2015-10-17 00:00:00   \n",
       "4767  4768        1729       1729  2015/2016      9  2015-10-17 00:00:00   \n",
       "\n",
       "      match_api_id  home_team_api_id  away_team_api_id  home_team_goal  ...  \\\n",
       "4388       1987032              9825              8654               0  ...   \n",
       "4389       1987033              8678             10252               0  ...   \n",
       "4390       1987034              8455             10003               2  ...   \n",
       "4391       1987035              8668              9817               2  ...   \n",
       "4392       1987036              8197              8472               4  ...   \n",
       "...            ...               ...               ...             ...  ...   \n",
       "4763       1988795              8466              8197               2  ...   \n",
       "4764       1988796             10003             10194               0  ...   \n",
       "4765       1988797              8586              8650               0  ...   \n",
       "4766       1988798              9817              9825               0  ...   \n",
       "4767       1988799              8659              8472               1  ...   \n",
       "\n",
       "      SJA   VCH   VCD    VCA  GBH  GBD  GBA  BSH  BSD  BSA  \n",
       "4388  NaN  1.30  5.75  12.00  NaN  NaN  NaN  NaN  NaN  NaN  \n",
       "4389  NaN  2.00  3.50   4.20  NaN  NaN  NaN  NaN  NaN  NaN  \n",
       "4390  NaN  1.40  5.00   9.50  NaN  NaN  NaN  NaN  NaN  NaN  \n",
       "4391  NaN  1.73  3.90   5.40  NaN  NaN  NaN  NaN  NaN  NaN  \n",
       "4392  NaN  2.00  3.40   4.33  NaN  NaN  NaN  NaN  NaN  NaN  \n",
       "...   ...   ...   ...    ...  ...  ...  ...  ...  ...  ...  \n",
       "4763  NaN  1.75  3.90   5.00  NaN  NaN  NaN  NaN  NaN  NaN  \n",
       "4764  NaN  2.05  3.40   4.10  NaN  NaN  NaN  NaN  NaN  NaN  \n",
       "4765  NaN  2.45  3.50   3.00  NaN  NaN  NaN  NaN  NaN  NaN  \n",
       "4766  NaN  6.25  4.20   1.60  NaN  NaN  NaN  NaN  NaN  NaN  \n",
       "4767  NaN  2.05  3.30   4.20  NaN  NaN  NaN  NaN  NaN  NaN  \n",
       "\n",
       "[380 rows x 115 columns]"
      ]
     },
     "execution_count": 5,
     "metadata": {},
     "output_type": "execute_result"
    }
   ],
   "source": [
    "epl_2015_season"
   ]
  },
  {
   "cell_type": "code",
   "execution_count": 6,
   "id": "aa50ec6a",
   "metadata": {},
   "outputs": [],
   "source": [
    "season_sliced_columns = ['season', 'match_api_id', 'home_team_api_id', 'away_team_api_id', 'home_team_goal', 'away_team_goal',\\\n",
    "                 'home_player_1', 'home_player_2','home_player_3', 'home_player_4', 'home_player_5', 'home_player_6',\\\n",
    "                 'home_player_7', 'home_player_8', 'home_player_9','home_player_10', 'home_player_11', 'away_player_1',\\\n",
    "                 'away_player_2', 'away_player_3', 'away_player_4', 'away_player_5','away_player_6', 'away_player_7',\\\n",
    "                 'away_player_8', 'away_player_9','away_player_10', 'away_player_11']"
   ]
  },
  {
   "cell_type": "code",
   "execution_count": 7,
   "id": "e1d0038a",
   "metadata": {},
   "outputs": [],
   "source": [
    "epl_2015_season_sliced = epl_2015_season[season_sliced_columns]"
   ]
  },
  {
   "cell_type": "code",
   "execution_count": 8,
   "id": "d2cdd17e",
   "metadata": {},
   "outputs": [
    {
     "data": {
      "text/html": [
       "<div>\n",
       "<style scoped>\n",
       "    .dataframe tbody tr th:only-of-type {\n",
       "        vertical-align: middle;\n",
       "    }\n",
       "\n",
       "    .dataframe tbody tr th {\n",
       "        vertical-align: top;\n",
       "    }\n",
       "\n",
       "    .dataframe thead th {\n",
       "        text-align: right;\n",
       "    }\n",
       "</style>\n",
       "<table border=\"1\" class=\"dataframe\">\n",
       "  <thead>\n",
       "    <tr style=\"text-align: right;\">\n",
       "      <th></th>\n",
       "      <th>season</th>\n",
       "      <th>match_api_id</th>\n",
       "      <th>home_team_api_id</th>\n",
       "      <th>away_team_api_id</th>\n",
       "      <th>home_team_goal</th>\n",
       "      <th>away_team_goal</th>\n",
       "      <th>home_player_1</th>\n",
       "      <th>home_player_2</th>\n",
       "      <th>home_player_3</th>\n",
       "      <th>home_player_4</th>\n",
       "      <th>...</th>\n",
       "      <th>away_player_2</th>\n",
       "      <th>away_player_3</th>\n",
       "      <th>away_player_4</th>\n",
       "      <th>away_player_5</th>\n",
       "      <th>away_player_6</th>\n",
       "      <th>away_player_7</th>\n",
       "      <th>away_player_8</th>\n",
       "      <th>away_player_9</th>\n",
       "      <th>away_player_10</th>\n",
       "      <th>away_player_11</th>\n",
       "    </tr>\n",
       "  </thead>\n",
       "  <tbody>\n",
       "    <tr>\n",
       "      <th>4388</th>\n",
       "      <td>2015/2016</td>\n",
       "      <td>1987032</td>\n",
       "      <td>9825</td>\n",
       "      <td>8654</td>\n",
       "      <td>0</td>\n",
       "      <td>2</td>\n",
       "      <td>30859.0</td>\n",
       "      <td>26154.0</td>\n",
       "      <td>35606.0</td>\n",
       "      <td>46539.0</td>\n",
       "      <td>...</td>\n",
       "      <td>109897.0</td>\n",
       "      <td>35110.0</td>\n",
       "      <td>49543.0</td>\n",
       "      <td>155782.0</td>\n",
       "      <td>37169.0</td>\n",
       "      <td>575789.0</td>\n",
       "      <td>148302.0</td>\n",
       "      <td>25496.0</td>\n",
       "      <td>18506.0</td>\n",
       "      <td>192899.0</td>\n",
       "    </tr>\n",
       "    <tr>\n",
       "      <th>4389</th>\n",
       "      <td>2015/2016</td>\n",
       "      <td>1987033</td>\n",
       "      <td>8678</td>\n",
       "      <td>10252</td>\n",
       "      <td>0</td>\n",
       "      <td>1</td>\n",
       "      <td>30974.0</td>\n",
       "      <td>35515.0</td>\n",
       "      <td>24625.0</td>\n",
       "      <td>156013.0</td>\n",
       "      <td>...</td>\n",
       "      <td>183500.0</td>\n",
       "      <td>24208.0</td>\n",
       "      <td>161414.0</td>\n",
       "      <td>473853.0</td>\n",
       "      <td>261313.0</td>\n",
       "      <td>179410.0</td>\n",
       "      <td>182223.0</td>\n",
       "      <td>23991.0</td>\n",
       "      <td>154280.0</td>\n",
       "      <td>23264.0</td>\n",
       "    </tr>\n",
       "    <tr>\n",
       "      <th>4390</th>\n",
       "      <td>2015/2016</td>\n",
       "      <td>1987034</td>\n",
       "      <td>8455</td>\n",
       "      <td>10003</td>\n",
       "      <td>2</td>\n",
       "      <td>2</td>\n",
       "      <td>170323.0</td>\n",
       "      <td>31306.0</td>\n",
       "      <td>23783.0</td>\n",
       "      <td>30627.0</td>\n",
       "      <td>...</td>\n",
       "      <td>111800.0</td>\n",
       "      <td>155050.0</td>\n",
       "      <td>24948.0</td>\n",
       "      <td>102356.0</td>\n",
       "      <td>127130.0</td>\n",
       "      <td>144996.0</td>\n",
       "      <td>95955.0</td>\n",
       "      <td>157729.0</td>\n",
       "      <td>52563.0</td>\n",
       "      <td>26344.0</td>\n",
       "    </tr>\n",
       "    <tr>\n",
       "      <th>4391</th>\n",
       "      <td>2015/2016</td>\n",
       "      <td>1987035</td>\n",
       "      <td>8668</td>\n",
       "      <td>9817</td>\n",
       "      <td>2</td>\n",
       "      <td>2</td>\n",
       "      <td>31465.0</td>\n",
       "      <td>77690.0</td>\n",
       "      <td>263653.0</td>\n",
       "      <td>23268.0</td>\n",
       "      <td>...</td>\n",
       "      <td>213809.0</td>\n",
       "      <td>41927.0</td>\n",
       "      <td>40548.0</td>\n",
       "      <td>35712.0</td>\n",
       "      <td>41365.0</td>\n",
       "      <td>30966.0</td>\n",
       "      <td>24915.0</td>\n",
       "      <td>37411.0</td>\n",
       "      <td>71724.0</td>\n",
       "      <td>72436.0</td>\n",
       "    </tr>\n",
       "    <tr>\n",
       "      <th>4392</th>\n",
       "      <td>2015/2016</td>\n",
       "      <td>1987036</td>\n",
       "      <td>8197</td>\n",
       "      <td>8472</td>\n",
       "      <td>4</td>\n",
       "      <td>2</td>\n",
       "      <td>37770.0</td>\n",
       "      <td>67850.0</td>\n",
       "      <td>38899.0</td>\n",
       "      <td>23571.0</td>\n",
       "      <td>...</td>\n",
       "      <td>22964.0</td>\n",
       "      <td>26108.0</td>\n",
       "      <td>165526.0</td>\n",
       "      <td>180330.0</td>\n",
       "      <td>35443.0</td>\n",
       "      <td>25150.0</td>\n",
       "      <td>109058.0</td>\n",
       "      <td>24159.0</td>\n",
       "      <td>30348.0</td>\n",
       "      <td>42598.0</td>\n",
       "    </tr>\n",
       "    <tr>\n",
       "      <th>...</th>\n",
       "      <td>...</td>\n",
       "      <td>...</td>\n",
       "      <td>...</td>\n",
       "      <td>...</td>\n",
       "      <td>...</td>\n",
       "      <td>...</td>\n",
       "      <td>...</td>\n",
       "      <td>...</td>\n",
       "      <td>...</td>\n",
       "      <td>...</td>\n",
       "      <td>...</td>\n",
       "      <td>...</td>\n",
       "      <td>...</td>\n",
       "      <td>...</td>\n",
       "      <td>...</td>\n",
       "      <td>...</td>\n",
       "      <td>...</td>\n",
       "      <td>...</td>\n",
       "      <td>...</td>\n",
       "      <td>...</td>\n",
       "      <td>...</td>\n",
       "    </tr>\n",
       "    <tr>\n",
       "      <th>4763</th>\n",
       "      <td>2015/2016</td>\n",
       "      <td>1988795</td>\n",
       "      <td>8466</td>\n",
       "      <td>8197</td>\n",
       "      <td>2</td>\n",
       "      <td>2</td>\n",
       "      <td>35496.0</td>\n",
       "      <td>160627.0</td>\n",
       "      <td>26552.0</td>\n",
       "      <td>209405.0</td>\n",
       "      <td>...</td>\n",
       "      <td>49571.0</td>\n",
       "      <td>23571.0</td>\n",
       "      <td>38899.0</td>\n",
       "      <td>43061.0</td>\n",
       "      <td>139671.0</td>\n",
       "      <td>173317.0</td>\n",
       "      <td>319300.0</td>\n",
       "      <td>214570.0</td>\n",
       "      <td>20694.0</td>\n",
       "      <td>286119.0</td>\n",
       "    </tr>\n",
       "    <tr>\n",
       "      <th>4764</th>\n",
       "      <td>2015/2016</td>\n",
       "      <td>1988796</td>\n",
       "      <td>10003</td>\n",
       "      <td>10194</td>\n",
       "      <td>0</td>\n",
       "      <td>1</td>\n",
       "      <td>30973.0</td>\n",
       "      <td>89185.0</td>\n",
       "      <td>155050.0</td>\n",
       "      <td>24948.0</td>\n",
       "      <td>...</td>\n",
       "      <td>34036.0</td>\n",
       "      <td>119541.0</td>\n",
       "      <td>200962.0</td>\n",
       "      <td>37194.0</td>\n",
       "      <td>23253.0</td>\n",
       "      <td>39109.0</td>\n",
       "      <td>176300.0</td>\n",
       "      <td>96643.0</td>\n",
       "      <td>110148.0</td>\n",
       "      <td>172321.0</td>\n",
       "    </tr>\n",
       "    <tr>\n",
       "      <th>4765</th>\n",
       "      <td>2015/2016</td>\n",
       "      <td>1988797</td>\n",
       "      <td>8586</td>\n",
       "      <td>8650</td>\n",
       "      <td>0</td>\n",
       "      <td>0</td>\n",
       "      <td>26295.0</td>\n",
       "      <td>159833.0</td>\n",
       "      <td>160599.0</td>\n",
       "      <td>37762.0</td>\n",
       "      <td>...</td>\n",
       "      <td>157838.0</td>\n",
       "      <td>22764.0</td>\n",
       "      <td>94043.0</td>\n",
       "      <td>314605.0</td>\n",
       "      <td>95327.0</td>\n",
       "      <td>307021.0</td>\n",
       "      <td>38807.0</td>\n",
       "      <td>184536.0</td>\n",
       "      <td>37234.0</td>\n",
       "      <td>426202.0</td>\n",
       "    </tr>\n",
       "    <tr>\n",
       "      <th>4766</th>\n",
       "      <td>2015/2016</td>\n",
       "      <td>1988798</td>\n",
       "      <td>9817</td>\n",
       "      <td>9825</td>\n",
       "      <td>0</td>\n",
       "      <td>3</td>\n",
       "      <td>30455.0</td>\n",
       "      <td>213809.0</td>\n",
       "      <td>41927.0</td>\n",
       "      <td>40548.0</td>\n",
       "      <td>...</td>\n",
       "      <td>427438.0</td>\n",
       "      <td>35606.0</td>\n",
       "      <td>46539.0</td>\n",
       "      <td>38521.0</td>\n",
       "      <td>159594.0</td>\n",
       "      <td>37436.0</td>\n",
       "      <td>75489.0</td>\n",
       "      <td>36378.0</td>\n",
       "      <td>50047.0</td>\n",
       "      <td>31013.0</td>\n",
       "    </tr>\n",
       "    <tr>\n",
       "      <th>4767</th>\n",
       "      <td>2015/2016</td>\n",
       "      <td>1988799</td>\n",
       "      <td>8659</td>\n",
       "      <td>8472</td>\n",
       "      <td>1</td>\n",
       "      <td>0</td>\n",
       "      <td>23021.0</td>\n",
       "      <td>169162.0</td>\n",
       "      <td>32441.0</td>\n",
       "      <td>43248.0</td>\n",
       "      <td>...</td>\n",
       "      <td>432040.0</td>\n",
       "      <td>24150.0</td>\n",
       "      <td>26108.0</td>\n",
       "      <td>22964.0</td>\n",
       "      <td>109330.0</td>\n",
       "      <td>25150.0</td>\n",
       "      <td>118929.0</td>\n",
       "      <td>35443.0</td>\n",
       "      <td>32627.0</td>\n",
       "      <td>184822.0</td>\n",
       "    </tr>\n",
       "  </tbody>\n",
       "</table>\n",
       "<p>380 rows × 28 columns</p>\n",
       "</div>"
      ],
      "text/plain": [
       "         season  match_api_id  home_team_api_id  away_team_api_id  \\\n",
       "4388  2015/2016       1987032              9825              8654   \n",
       "4389  2015/2016       1987033              8678             10252   \n",
       "4390  2015/2016       1987034              8455             10003   \n",
       "4391  2015/2016       1987035              8668              9817   \n",
       "4392  2015/2016       1987036              8197              8472   \n",
       "...         ...           ...               ...               ...   \n",
       "4763  2015/2016       1988795              8466              8197   \n",
       "4764  2015/2016       1988796             10003             10194   \n",
       "4765  2015/2016       1988797              8586              8650   \n",
       "4766  2015/2016       1988798              9817              9825   \n",
       "4767  2015/2016       1988799              8659              8472   \n",
       "\n",
       "      home_team_goal  away_team_goal  home_player_1  home_player_2  \\\n",
       "4388               0               2        30859.0        26154.0   \n",
       "4389               0               1        30974.0        35515.0   \n",
       "4390               2               2       170323.0        31306.0   \n",
       "4391               2               2        31465.0        77690.0   \n",
       "4392               4               2        37770.0        67850.0   \n",
       "...              ...             ...            ...            ...   \n",
       "4763               2               2        35496.0       160627.0   \n",
       "4764               0               1        30973.0        89185.0   \n",
       "4765               0               0        26295.0       159833.0   \n",
       "4766               0               3        30455.0       213809.0   \n",
       "4767               1               0        23021.0       169162.0   \n",
       "\n",
       "      home_player_3  home_player_4  ...  away_player_2  away_player_3  \\\n",
       "4388        35606.0        46539.0  ...       109897.0        35110.0   \n",
       "4389        24625.0       156013.0  ...       183500.0        24208.0   \n",
       "4390        23783.0        30627.0  ...       111800.0       155050.0   \n",
       "4391       263653.0        23268.0  ...       213809.0        41927.0   \n",
       "4392        38899.0        23571.0  ...        22964.0        26108.0   \n",
       "...             ...            ...  ...            ...            ...   \n",
       "4763        26552.0       209405.0  ...        49571.0        23571.0   \n",
       "4764       155050.0        24948.0  ...        34036.0       119541.0   \n",
       "4765       160599.0        37762.0  ...       157838.0        22764.0   \n",
       "4766        41927.0        40548.0  ...       427438.0        35606.0   \n",
       "4767        32441.0        43248.0  ...       432040.0        24150.0   \n",
       "\n",
       "      away_player_4  away_player_5  away_player_6  away_player_7  \\\n",
       "4388        49543.0       155782.0        37169.0       575789.0   \n",
       "4389       161414.0       473853.0       261313.0       179410.0   \n",
       "4390        24948.0       102356.0       127130.0       144996.0   \n",
       "4391        40548.0        35712.0        41365.0        30966.0   \n",
       "4392       165526.0       180330.0        35443.0        25150.0   \n",
       "...             ...            ...            ...            ...   \n",
       "4763        38899.0        43061.0       139671.0       173317.0   \n",
       "4764       200962.0        37194.0        23253.0        39109.0   \n",
       "4765        94043.0       314605.0        95327.0       307021.0   \n",
       "4766        46539.0        38521.0       159594.0        37436.0   \n",
       "4767        26108.0        22964.0       109330.0        25150.0   \n",
       "\n",
       "      away_player_8  away_player_9  away_player_10  away_player_11  \n",
       "4388       148302.0        25496.0         18506.0        192899.0  \n",
       "4389       182223.0        23991.0        154280.0         23264.0  \n",
       "4390        95955.0       157729.0         52563.0         26344.0  \n",
       "4391        24915.0        37411.0         71724.0         72436.0  \n",
       "4392       109058.0        24159.0         30348.0         42598.0  \n",
       "...             ...            ...             ...             ...  \n",
       "4763       319300.0       214570.0         20694.0        286119.0  \n",
       "4764       176300.0        96643.0        110148.0        172321.0  \n",
       "4765        38807.0       184536.0         37234.0        426202.0  \n",
       "4766        75489.0        36378.0         50047.0         31013.0  \n",
       "4767       118929.0        35443.0         32627.0        184822.0  \n",
       "\n",
       "[380 rows x 28 columns]"
      ]
     },
     "execution_count": 8,
     "metadata": {},
     "output_type": "execute_result"
    }
   ],
   "source": [
    "epl_2015_season_sliced"
   ]
  },
  {
   "cell_type": "markdown",
   "id": "d1c4ab2d",
   "metadata": {},
   "source": [
    "### We want to handle 2015/16 season"
   ]
  },
  {
   "cell_type": "code",
   "execution_count": 9,
   "id": "a956bbfd",
   "metadata": {},
   "outputs": [],
   "source": [
    "starting_date = '2015-09-01'\n",
    "ending_date = '2016-01-01'"
   ]
  },
  {
   "cell_type": "code",
   "execution_count": 10,
   "id": "37e0cb50",
   "metadata": {},
   "outputs": [],
   "source": [
    "higher_up = player_attr_data[player_attr_data['date'] > starting_date]\n",
    "player_overall_df = higher_up[higher_up['date'] <  ending_date].drop_duplicates(subset = [\"player_api_id\"])\n",
    "\n",
    "\n",
    "## currently we are only concerned with overall_rating\n",
    "\n",
    "player_overall_df = player_overall_df[['player_api_id', 'overall_rating']]"
   ]
  },
  {
   "cell_type": "code",
   "execution_count": 11,
   "id": "d223c7b6",
   "metadata": {},
   "outputs": [
    {
     "data": {
      "text/html": [
       "<div>\n",
       "<style scoped>\n",
       "    .dataframe tbody tr th:only-of-type {\n",
       "        vertical-align: middle;\n",
       "    }\n",
       "\n",
       "    .dataframe tbody tr th {\n",
       "        vertical-align: top;\n",
       "    }\n",
       "\n",
       "    .dataframe thead th {\n",
       "        text-align: right;\n",
       "    }\n",
       "</style>\n",
       "<table border=\"1\" class=\"dataframe\">\n",
       "  <thead>\n",
       "    <tr style=\"text-align: right;\">\n",
       "      <th></th>\n",
       "      <th>player_api_id</th>\n",
       "      <th>overall_rating</th>\n",
       "    </tr>\n",
       "  </thead>\n",
       "  <tbody>\n",
       "    <tr>\n",
       "      <th>1</th>\n",
       "      <td>505942</td>\n",
       "      <td>67.0</td>\n",
       "    </tr>\n",
       "    <tr>\n",
       "      <th>8</th>\n",
       "      <td>155782</td>\n",
       "      <td>73.0</td>\n",
       "    </tr>\n",
       "    <tr>\n",
       "      <th>39</th>\n",
       "      <td>162549</td>\n",
       "      <td>66.0</td>\n",
       "    </tr>\n",
       "    <tr>\n",
       "      <th>65</th>\n",
       "      <td>30572</td>\n",
       "      <td>69.0</td>\n",
       "    </tr>\n",
       "    <tr>\n",
       "      <th>87</th>\n",
       "      <td>23780</td>\n",
       "      <td>70.0</td>\n",
       "    </tr>\n",
       "    <tr>\n",
       "      <th>...</th>\n",
       "      <td>...</td>\n",
       "      <td>...</td>\n",
       "    </tr>\n",
       "    <tr>\n",
       "      <th>183823</th>\n",
       "      <td>107281</td>\n",
       "      <td>73.0</td>\n",
       "    </tr>\n",
       "    <tr>\n",
       "      <th>183856</th>\n",
       "      <td>491794</td>\n",
       "      <td>58.0</td>\n",
       "    </tr>\n",
       "    <tr>\n",
       "      <th>183878</th>\n",
       "      <td>99031</td>\n",
       "      <td>80.0</td>\n",
       "    </tr>\n",
       "    <tr>\n",
       "      <th>183896</th>\n",
       "      <td>192132</td>\n",
       "      <td>64.0</td>\n",
       "    </tr>\n",
       "    <tr>\n",
       "      <th>183905</th>\n",
       "      <td>282473</td>\n",
       "      <td>75.0</td>\n",
       "    </tr>\n",
       "  </tbody>\n",
       "</table>\n",
       "<p>6677 rows × 2 columns</p>\n",
       "</div>"
      ],
      "text/plain": [
       "        player_api_id  overall_rating\n",
       "1              505942            67.0\n",
       "8              155782            73.0\n",
       "39             162549            66.0\n",
       "65              30572            69.0\n",
       "87              23780            70.0\n",
       "...               ...             ...\n",
       "183823         107281            73.0\n",
       "183856         491794            58.0\n",
       "183878          99031            80.0\n",
       "183896         192132            64.0\n",
       "183905         282473            75.0\n",
       "\n",
       "[6677 rows x 2 columns]"
      ]
     },
     "execution_count": 11,
     "metadata": {},
     "output_type": "execute_result"
    }
   ],
   "source": [
    "player_overall_df"
   ]
  },
  {
   "cell_type": "markdown",
   "id": "ea9e4ada",
   "metadata": {},
   "source": [
    "## Join Match Data and Player Overall"
   ]
  },
  {
   "cell_type": "code",
   "execution_count": 12,
   "id": "7009d2f3",
   "metadata": {},
   "outputs": [],
   "source": [
    "experimenting_df = epl_2015_season_sliced"
   ]
  },
  {
   "cell_type": "code",
   "execution_count": 13,
   "id": "95470894",
   "metadata": {},
   "outputs": [
    {
     "data": {
      "text/html": [
       "<div>\n",
       "<style scoped>\n",
       "    .dataframe tbody tr th:only-of-type {\n",
       "        vertical-align: middle;\n",
       "    }\n",
       "\n",
       "    .dataframe tbody tr th {\n",
       "        vertical-align: top;\n",
       "    }\n",
       "\n",
       "    .dataframe thead th {\n",
       "        text-align: right;\n",
       "    }\n",
       "</style>\n",
       "<table border=\"1\" class=\"dataframe\">\n",
       "  <thead>\n",
       "    <tr style=\"text-align: right;\">\n",
       "      <th></th>\n",
       "      <th>season</th>\n",
       "      <th>match_api_id</th>\n",
       "      <th>home_team_api_id</th>\n",
       "      <th>away_team_api_id</th>\n",
       "      <th>home_team_goal</th>\n",
       "      <th>away_team_goal</th>\n",
       "      <th>home_player_1</th>\n",
       "      <th>home_player_2</th>\n",
       "      <th>home_player_3</th>\n",
       "      <th>home_player_4</th>\n",
       "      <th>...</th>\n",
       "      <th>away_player_2</th>\n",
       "      <th>away_player_3</th>\n",
       "      <th>away_player_4</th>\n",
       "      <th>away_player_5</th>\n",
       "      <th>away_player_6</th>\n",
       "      <th>away_player_7</th>\n",
       "      <th>away_player_8</th>\n",
       "      <th>away_player_9</th>\n",
       "      <th>away_player_10</th>\n",
       "      <th>away_player_11</th>\n",
       "    </tr>\n",
       "  </thead>\n",
       "  <tbody>\n",
       "    <tr>\n",
       "      <th>4388</th>\n",
       "      <td>2015/2016</td>\n",
       "      <td>1987032</td>\n",
       "      <td>9825</td>\n",
       "      <td>8654</td>\n",
       "      <td>0</td>\n",
       "      <td>2</td>\n",
       "      <td>30859.0</td>\n",
       "      <td>26154.0</td>\n",
       "      <td>35606.0</td>\n",
       "      <td>46539.0</td>\n",
       "      <td>...</td>\n",
       "      <td>109897.0</td>\n",
       "      <td>35110.0</td>\n",
       "      <td>49543.0</td>\n",
       "      <td>155782.0</td>\n",
       "      <td>37169.0</td>\n",
       "      <td>575789.0</td>\n",
       "      <td>148302.0</td>\n",
       "      <td>25496.0</td>\n",
       "      <td>18506.0</td>\n",
       "      <td>192899.0</td>\n",
       "    </tr>\n",
       "    <tr>\n",
       "      <th>4389</th>\n",
       "      <td>2015/2016</td>\n",
       "      <td>1987033</td>\n",
       "      <td>8678</td>\n",
       "      <td>10252</td>\n",
       "      <td>0</td>\n",
       "      <td>1</td>\n",
       "      <td>30974.0</td>\n",
       "      <td>35515.0</td>\n",
       "      <td>24625.0</td>\n",
       "      <td>156013.0</td>\n",
       "      <td>...</td>\n",
       "      <td>183500.0</td>\n",
       "      <td>24208.0</td>\n",
       "      <td>161414.0</td>\n",
       "      <td>473853.0</td>\n",
       "      <td>261313.0</td>\n",
       "      <td>179410.0</td>\n",
       "      <td>182223.0</td>\n",
       "      <td>23991.0</td>\n",
       "      <td>154280.0</td>\n",
       "      <td>23264.0</td>\n",
       "    </tr>\n",
       "    <tr>\n",
       "      <th>4390</th>\n",
       "      <td>2015/2016</td>\n",
       "      <td>1987034</td>\n",
       "      <td>8455</td>\n",
       "      <td>10003</td>\n",
       "      <td>2</td>\n",
       "      <td>2</td>\n",
       "      <td>170323.0</td>\n",
       "      <td>31306.0</td>\n",
       "      <td>23783.0</td>\n",
       "      <td>30627.0</td>\n",
       "      <td>...</td>\n",
       "      <td>111800.0</td>\n",
       "      <td>155050.0</td>\n",
       "      <td>24948.0</td>\n",
       "      <td>102356.0</td>\n",
       "      <td>127130.0</td>\n",
       "      <td>144996.0</td>\n",
       "      <td>95955.0</td>\n",
       "      <td>157729.0</td>\n",
       "      <td>52563.0</td>\n",
       "      <td>26344.0</td>\n",
       "    </tr>\n",
       "    <tr>\n",
       "      <th>4391</th>\n",
       "      <td>2015/2016</td>\n",
       "      <td>1987035</td>\n",
       "      <td>8668</td>\n",
       "      <td>9817</td>\n",
       "      <td>2</td>\n",
       "      <td>2</td>\n",
       "      <td>31465.0</td>\n",
       "      <td>77690.0</td>\n",
       "      <td>263653.0</td>\n",
       "      <td>23268.0</td>\n",
       "      <td>...</td>\n",
       "      <td>213809.0</td>\n",
       "      <td>41927.0</td>\n",
       "      <td>40548.0</td>\n",
       "      <td>35712.0</td>\n",
       "      <td>41365.0</td>\n",
       "      <td>30966.0</td>\n",
       "      <td>24915.0</td>\n",
       "      <td>37411.0</td>\n",
       "      <td>71724.0</td>\n",
       "      <td>72436.0</td>\n",
       "    </tr>\n",
       "    <tr>\n",
       "      <th>4392</th>\n",
       "      <td>2015/2016</td>\n",
       "      <td>1987036</td>\n",
       "      <td>8197</td>\n",
       "      <td>8472</td>\n",
       "      <td>4</td>\n",
       "      <td>2</td>\n",
       "      <td>37770.0</td>\n",
       "      <td>67850.0</td>\n",
       "      <td>38899.0</td>\n",
       "      <td>23571.0</td>\n",
       "      <td>...</td>\n",
       "      <td>22964.0</td>\n",
       "      <td>26108.0</td>\n",
       "      <td>165526.0</td>\n",
       "      <td>180330.0</td>\n",
       "      <td>35443.0</td>\n",
       "      <td>25150.0</td>\n",
       "      <td>109058.0</td>\n",
       "      <td>24159.0</td>\n",
       "      <td>30348.0</td>\n",
       "      <td>42598.0</td>\n",
       "    </tr>\n",
       "    <tr>\n",
       "      <th>...</th>\n",
       "      <td>...</td>\n",
       "      <td>...</td>\n",
       "      <td>...</td>\n",
       "      <td>...</td>\n",
       "      <td>...</td>\n",
       "      <td>...</td>\n",
       "      <td>...</td>\n",
       "      <td>...</td>\n",
       "      <td>...</td>\n",
       "      <td>...</td>\n",
       "      <td>...</td>\n",
       "      <td>...</td>\n",
       "      <td>...</td>\n",
       "      <td>...</td>\n",
       "      <td>...</td>\n",
       "      <td>...</td>\n",
       "      <td>...</td>\n",
       "      <td>...</td>\n",
       "      <td>...</td>\n",
       "      <td>...</td>\n",
       "      <td>...</td>\n",
       "    </tr>\n",
       "    <tr>\n",
       "      <th>4763</th>\n",
       "      <td>2015/2016</td>\n",
       "      <td>1988795</td>\n",
       "      <td>8466</td>\n",
       "      <td>8197</td>\n",
       "      <td>2</td>\n",
       "      <td>2</td>\n",
       "      <td>35496.0</td>\n",
       "      <td>160627.0</td>\n",
       "      <td>26552.0</td>\n",
       "      <td>209405.0</td>\n",
       "      <td>...</td>\n",
       "      <td>49571.0</td>\n",
       "      <td>23571.0</td>\n",
       "      <td>38899.0</td>\n",
       "      <td>43061.0</td>\n",
       "      <td>139671.0</td>\n",
       "      <td>173317.0</td>\n",
       "      <td>319300.0</td>\n",
       "      <td>214570.0</td>\n",
       "      <td>20694.0</td>\n",
       "      <td>286119.0</td>\n",
       "    </tr>\n",
       "    <tr>\n",
       "      <th>4764</th>\n",
       "      <td>2015/2016</td>\n",
       "      <td>1988796</td>\n",
       "      <td>10003</td>\n",
       "      <td>10194</td>\n",
       "      <td>0</td>\n",
       "      <td>1</td>\n",
       "      <td>30973.0</td>\n",
       "      <td>89185.0</td>\n",
       "      <td>155050.0</td>\n",
       "      <td>24948.0</td>\n",
       "      <td>...</td>\n",
       "      <td>34036.0</td>\n",
       "      <td>119541.0</td>\n",
       "      <td>200962.0</td>\n",
       "      <td>37194.0</td>\n",
       "      <td>23253.0</td>\n",
       "      <td>39109.0</td>\n",
       "      <td>176300.0</td>\n",
       "      <td>96643.0</td>\n",
       "      <td>110148.0</td>\n",
       "      <td>172321.0</td>\n",
       "    </tr>\n",
       "    <tr>\n",
       "      <th>4765</th>\n",
       "      <td>2015/2016</td>\n",
       "      <td>1988797</td>\n",
       "      <td>8586</td>\n",
       "      <td>8650</td>\n",
       "      <td>0</td>\n",
       "      <td>0</td>\n",
       "      <td>26295.0</td>\n",
       "      <td>159833.0</td>\n",
       "      <td>160599.0</td>\n",
       "      <td>37762.0</td>\n",
       "      <td>...</td>\n",
       "      <td>157838.0</td>\n",
       "      <td>22764.0</td>\n",
       "      <td>94043.0</td>\n",
       "      <td>314605.0</td>\n",
       "      <td>95327.0</td>\n",
       "      <td>307021.0</td>\n",
       "      <td>38807.0</td>\n",
       "      <td>184536.0</td>\n",
       "      <td>37234.0</td>\n",
       "      <td>426202.0</td>\n",
       "    </tr>\n",
       "    <tr>\n",
       "      <th>4766</th>\n",
       "      <td>2015/2016</td>\n",
       "      <td>1988798</td>\n",
       "      <td>9817</td>\n",
       "      <td>9825</td>\n",
       "      <td>0</td>\n",
       "      <td>3</td>\n",
       "      <td>30455.0</td>\n",
       "      <td>213809.0</td>\n",
       "      <td>41927.0</td>\n",
       "      <td>40548.0</td>\n",
       "      <td>...</td>\n",
       "      <td>427438.0</td>\n",
       "      <td>35606.0</td>\n",
       "      <td>46539.0</td>\n",
       "      <td>38521.0</td>\n",
       "      <td>159594.0</td>\n",
       "      <td>37436.0</td>\n",
       "      <td>75489.0</td>\n",
       "      <td>36378.0</td>\n",
       "      <td>50047.0</td>\n",
       "      <td>31013.0</td>\n",
       "    </tr>\n",
       "    <tr>\n",
       "      <th>4767</th>\n",
       "      <td>2015/2016</td>\n",
       "      <td>1988799</td>\n",
       "      <td>8659</td>\n",
       "      <td>8472</td>\n",
       "      <td>1</td>\n",
       "      <td>0</td>\n",
       "      <td>23021.0</td>\n",
       "      <td>169162.0</td>\n",
       "      <td>32441.0</td>\n",
       "      <td>43248.0</td>\n",
       "      <td>...</td>\n",
       "      <td>432040.0</td>\n",
       "      <td>24150.0</td>\n",
       "      <td>26108.0</td>\n",
       "      <td>22964.0</td>\n",
       "      <td>109330.0</td>\n",
       "      <td>25150.0</td>\n",
       "      <td>118929.0</td>\n",
       "      <td>35443.0</td>\n",
       "      <td>32627.0</td>\n",
       "      <td>184822.0</td>\n",
       "    </tr>\n",
       "  </tbody>\n",
       "</table>\n",
       "<p>380 rows × 28 columns</p>\n",
       "</div>"
      ],
      "text/plain": [
       "         season  match_api_id  home_team_api_id  away_team_api_id  \\\n",
       "4388  2015/2016       1987032              9825              8654   \n",
       "4389  2015/2016       1987033              8678             10252   \n",
       "4390  2015/2016       1987034              8455             10003   \n",
       "4391  2015/2016       1987035              8668              9817   \n",
       "4392  2015/2016       1987036              8197              8472   \n",
       "...         ...           ...               ...               ...   \n",
       "4763  2015/2016       1988795              8466              8197   \n",
       "4764  2015/2016       1988796             10003             10194   \n",
       "4765  2015/2016       1988797              8586              8650   \n",
       "4766  2015/2016       1988798              9817              9825   \n",
       "4767  2015/2016       1988799              8659              8472   \n",
       "\n",
       "      home_team_goal  away_team_goal  home_player_1  home_player_2  \\\n",
       "4388               0               2        30859.0        26154.0   \n",
       "4389               0               1        30974.0        35515.0   \n",
       "4390               2               2       170323.0        31306.0   \n",
       "4391               2               2        31465.0        77690.0   \n",
       "4392               4               2        37770.0        67850.0   \n",
       "...              ...             ...            ...            ...   \n",
       "4763               2               2        35496.0       160627.0   \n",
       "4764               0               1        30973.0        89185.0   \n",
       "4765               0               0        26295.0       159833.0   \n",
       "4766               0               3        30455.0       213809.0   \n",
       "4767               1               0        23021.0       169162.0   \n",
       "\n",
       "      home_player_3  home_player_4  ...  away_player_2  away_player_3  \\\n",
       "4388        35606.0        46539.0  ...       109897.0        35110.0   \n",
       "4389        24625.0       156013.0  ...       183500.0        24208.0   \n",
       "4390        23783.0        30627.0  ...       111800.0       155050.0   \n",
       "4391       263653.0        23268.0  ...       213809.0        41927.0   \n",
       "4392        38899.0        23571.0  ...        22964.0        26108.0   \n",
       "...             ...            ...  ...            ...            ...   \n",
       "4763        26552.0       209405.0  ...        49571.0        23571.0   \n",
       "4764       155050.0        24948.0  ...        34036.0       119541.0   \n",
       "4765       160599.0        37762.0  ...       157838.0        22764.0   \n",
       "4766        41927.0        40548.0  ...       427438.0        35606.0   \n",
       "4767        32441.0        43248.0  ...       432040.0        24150.0   \n",
       "\n",
       "      away_player_4  away_player_5  away_player_6  away_player_7  \\\n",
       "4388        49543.0       155782.0        37169.0       575789.0   \n",
       "4389       161414.0       473853.0       261313.0       179410.0   \n",
       "4390        24948.0       102356.0       127130.0       144996.0   \n",
       "4391        40548.0        35712.0        41365.0        30966.0   \n",
       "4392       165526.0       180330.0        35443.0        25150.0   \n",
       "...             ...            ...            ...            ...   \n",
       "4763        38899.0        43061.0       139671.0       173317.0   \n",
       "4764       200962.0        37194.0        23253.0        39109.0   \n",
       "4765        94043.0       314605.0        95327.0       307021.0   \n",
       "4766        46539.0        38521.0       159594.0        37436.0   \n",
       "4767        26108.0        22964.0       109330.0        25150.0   \n",
       "\n",
       "      away_player_8  away_player_9  away_player_10  away_player_11  \n",
       "4388       148302.0        25496.0         18506.0        192899.0  \n",
       "4389       182223.0        23991.0        154280.0         23264.0  \n",
       "4390        95955.0       157729.0         52563.0         26344.0  \n",
       "4391        24915.0        37411.0         71724.0         72436.0  \n",
       "4392       109058.0        24159.0         30348.0         42598.0  \n",
       "...             ...            ...             ...             ...  \n",
       "4763       319300.0       214570.0         20694.0        286119.0  \n",
       "4764       176300.0        96643.0        110148.0        172321.0  \n",
       "4765        38807.0       184536.0         37234.0        426202.0  \n",
       "4766        75489.0        36378.0         50047.0         31013.0  \n",
       "4767       118929.0        35443.0         32627.0        184822.0  \n",
       "\n",
       "[380 rows x 28 columns]"
      ]
     },
     "execution_count": 13,
     "metadata": {},
     "output_type": "execute_result"
    }
   ],
   "source": [
    "experimenting_df"
   ]
  },
  {
   "cell_type": "code",
   "execution_count": 14,
   "id": "95ebe044",
   "metadata": {},
   "outputs": [],
   "source": [
    "columns_to_loop = ['home_player_1', 'home_player_2','home_player_3', 'home_player_4', 'home_player_5', 'home_player_6',\\\n",
    "                 'home_player_7', 'home_player_8', 'home_player_9','home_player_10', 'home_player_11', 'away_player_1',\\\n",
    "                 'away_player_2', 'away_player_3', 'away_player_4', 'away_player_5','away_player_6', 'away_player_7',\\\n",
    "                 'away_player_8', 'away_player_9','away_player_10', 'away_player_11']"
   ]
  },
  {
   "cell_type": "code",
   "execution_count": 15,
   "id": "56f68aa2",
   "metadata": {},
   "outputs": [],
   "source": [
    "column_names_overall = ['home_player_1_overall', 'home_player_2_overall','home_player_3_overall', 'home_player_4_overall', 'home_player_5_overall', 'home_player_6_overall',\\\n",
    "                 'home_player_7_overall', 'home_player_8_overall', 'home_player_9_overall','home_player_10_overall', 'home_player_11_overall', 'away_player_1_overall',\\\n",
    "                 'away_player_2_overall', 'away_player_3_overall', 'away_player_4_overall', 'away_player_5_overall','away_player_6_overall', 'away_player_7_overall',\\\n",
    "                 'away_player_8_overall', 'away_player_9_overall','away_player_10_overall', 'away_player_11_overall']"
   ]
  },
  {
   "cell_type": "code",
   "execution_count": 16,
   "id": "4b303469",
   "metadata": {},
   "outputs": [
    {
     "data": {
      "text/plain": [
       "Index(['season', 'match_api_id', 'home_team_api_id', 'away_team_api_id',\n",
       "       'home_team_goal', 'away_team_goal', 'home_player_1', 'home_player_2',\n",
       "       'home_player_3', 'home_player_4', 'home_player_5', 'home_player_6',\n",
       "       'home_player_7', 'home_player_8', 'home_player_9', 'home_player_10',\n",
       "       'home_player_11', 'away_player_1', 'away_player_2', 'away_player_3',\n",
       "       'away_player_4', 'away_player_5', 'away_player_6', 'away_player_7',\n",
       "       'away_player_8', 'away_player_9', 'away_player_10', 'away_player_11'],\n",
       "      dtype='object')"
      ]
     },
     "execution_count": 16,
     "metadata": {},
     "output_type": "execute_result"
    }
   ],
   "source": [
    "experimenting_df.columns"
   ]
  },
  {
   "cell_type": "code",
   "execution_count": 17,
   "id": "549fd3c2",
   "metadata": {},
   "outputs": [],
   "source": [
    "for i in range(len(column_names_overall)):\n",
    "    experimenting_df = experimenting_df.merge(player_overall_df,\\\n",
    "                                left_on= columns_to_loop[i], right_on='player_api_id', how='left', suffixes=('_1', '_2'))\\\n",
    "                                .rename(columns={\"overall_rating\": column_names_overall[i]})"
   ]
  },
  {
   "cell_type": "code",
   "execution_count": 18,
   "id": "7150371b",
   "metadata": {},
   "outputs": [
    {
     "data": {
      "text/plain": [
       "Index(['season', 'match_api_id', 'home_team_api_id', 'away_team_api_id',\n",
       "       'home_team_goal', 'away_team_goal', 'home_player_1', 'home_player_2',\n",
       "       'home_player_3', 'home_player_4', 'home_player_5', 'home_player_6',\n",
       "       'home_player_7', 'home_player_8', 'home_player_9', 'home_player_10',\n",
       "       'home_player_11', 'away_player_1', 'away_player_2', 'away_player_3',\n",
       "       'away_player_4', 'away_player_5', 'away_player_6', 'away_player_7',\n",
       "       'away_player_8', 'away_player_9', 'away_player_10', 'away_player_11',\n",
       "       'player_api_id_1', 'home_player_1_overall', 'player_api_id_2',\n",
       "       'home_player_2_overall', 'player_api_id_1', 'home_player_3_overall',\n",
       "       'player_api_id_2', 'home_player_4_overall', 'player_api_id_1',\n",
       "       'home_player_5_overall', 'player_api_id_2', 'home_player_6_overall',\n",
       "       'player_api_id_1', 'home_player_7_overall', 'player_api_id_2',\n",
       "       'home_player_8_overall', 'player_api_id_1', 'home_player_9_overall',\n",
       "       'player_api_id_2', 'home_player_10_overall', 'player_api_id_1',\n",
       "       'home_player_11_overall', 'player_api_id_2', 'away_player_1_overall',\n",
       "       'player_api_id_1', 'away_player_2_overall', 'player_api_id_2',\n",
       "       'away_player_3_overall', 'player_api_id_1', 'away_player_4_overall',\n",
       "       'player_api_id_2', 'away_player_5_overall', 'player_api_id_1',\n",
       "       'away_player_6_overall', 'player_api_id_2', 'away_player_7_overall',\n",
       "       'player_api_id_1', 'away_player_8_overall', 'player_api_id_2',\n",
       "       'away_player_9_overall', 'player_api_id_1', 'away_player_10_overall',\n",
       "       'player_api_id_2', 'away_player_11_overall'],\n",
       "      dtype='object')"
      ]
     },
     "execution_count": 18,
     "metadata": {},
     "output_type": "execute_result"
    }
   ],
   "source": [
    "experimenting_df.columns"
   ]
  },
  {
   "cell_type": "markdown",
   "id": "ac22d6af",
   "metadata": {},
   "source": [
    "### Create WIN, LOSE, DRAW labels"
   ]
  },
  {
   "cell_type": "code",
   "execution_count": 19,
   "id": "0d80bea4",
   "metadata": {},
   "outputs": [],
   "source": [
    "conditions = [\n",
    "    (experimenting_df['home_team_goal'] > experimenting_df['away_team_goal']),\n",
    "    (experimenting_df['home_team_goal'] == experimenting_df['away_team_goal']),\n",
    "    (experimenting_df['home_team_goal'] < experimenting_df['away_team_goal']),\n",
    "    ]\n",
    "\n",
    "conditions_values = [3.0, 1.0, 0.0]\n",
    "\n",
    "experimenting_df['results'] = np.select(conditions, conditions_values)\n"
   ]
  },
  {
   "cell_type": "code",
   "execution_count": 21,
   "id": "a39c28f9",
   "metadata": {},
   "outputs": [
    {
     "data": {
      "text/plain": [
       "array([0., 1., 3.])"
      ]
     },
     "execution_count": 21,
     "metadata": {},
     "output_type": "execute_result"
    }
   ],
   "source": [
    "np.unique(experimenting_df['results'])"
   ]
  },
  {
   "cell_type": "markdown",
   "id": "0fc9e1c0",
   "metadata": {},
   "source": [
    "### Obtain Final Prepared Dataset"
   ]
  },
  {
   "cell_type": "code",
   "execution_count": 22,
   "id": "39813008",
   "metadata": {},
   "outputs": [],
   "source": [
    "final_df_columns = ['home_player_1_overall', 'home_player_2_overall','home_player_3_overall', 'home_player_4_overall', 'home_player_5_overall', 'home_player_6_overall',\\\n",
    "                 'home_player_7_overall', 'home_player_8_overall', 'home_player_9_overall','home_player_10_overall', 'home_player_11_overall', 'away_player_1_overall',\\\n",
    "                 'away_player_2_overall', 'away_player_3_overall', 'away_player_4_overall', 'away_player_5_overall','away_player_6_overall', 'away_player_7_overall',\\\n",
    "                 'away_player_8_overall', 'away_player_9_overall','away_player_10_overall', 'away_player_11_overall', 'results']"
   ]
  },
  {
   "cell_type": "code",
   "execution_count": 23,
   "id": "29f366da",
   "metadata": {},
   "outputs": [],
   "source": [
    "prepared_df = experimenting_df[final_df_columns]"
   ]
  },
  {
   "cell_type": "code",
   "execution_count": 24,
   "id": "cf72f78a",
   "metadata": {},
   "outputs": [
    {
     "data": {
      "text/html": [
       "<div>\n",
       "<style scoped>\n",
       "    .dataframe tbody tr th:only-of-type {\n",
       "        vertical-align: middle;\n",
       "    }\n",
       "\n",
       "    .dataframe tbody tr th {\n",
       "        vertical-align: top;\n",
       "    }\n",
       "\n",
       "    .dataframe thead th {\n",
       "        text-align: right;\n",
       "    }\n",
       "</style>\n",
       "<table border=\"1\" class=\"dataframe\">\n",
       "  <thead>\n",
       "    <tr style=\"text-align: right;\">\n",
       "      <th></th>\n",
       "      <th>home_player_1_overall</th>\n",
       "      <th>home_player_2_overall</th>\n",
       "      <th>home_player_3_overall</th>\n",
       "      <th>home_player_4_overall</th>\n",
       "      <th>home_player_5_overall</th>\n",
       "      <th>home_player_6_overall</th>\n",
       "      <th>home_player_7_overall</th>\n",
       "      <th>home_player_8_overall</th>\n",
       "      <th>home_player_9_overall</th>\n",
       "      <th>home_player_10_overall</th>\n",
       "      <th>...</th>\n",
       "      <th>away_player_3_overall</th>\n",
       "      <th>away_player_4_overall</th>\n",
       "      <th>away_player_5_overall</th>\n",
       "      <th>away_player_6_overall</th>\n",
       "      <th>away_player_7_overall</th>\n",
       "      <th>away_player_8_overall</th>\n",
       "      <th>away_player_9_overall</th>\n",
       "      <th>away_player_10_overall</th>\n",
       "      <th>away_player_11_overall</th>\n",
       "      <th>results</th>\n",
       "    </tr>\n",
       "  </thead>\n",
       "  <tbody>\n",
       "    <tr>\n",
       "      <th>0</th>\n",
       "      <td>85.0</td>\n",
       "      <td>79.0</td>\n",
       "      <td>83.0</td>\n",
       "      <td>83.0</td>\n",
       "      <td>80.0</td>\n",
       "      <td>79.0</td>\n",
       "      <td>85.0</td>\n",
       "      <td>82.0</td>\n",
       "      <td>87.0</td>\n",
       "      <td>79.0</td>\n",
       "      <td>...</td>\n",
       "      <td>79.0</td>\n",
       "      <td>79.0</td>\n",
       "      <td>73.0</td>\n",
       "      <td>76.0</td>\n",
       "      <td>62.0</td>\n",
       "      <td>75.0</td>\n",
       "      <td>81.0</td>\n",
       "      <td>76.0</td>\n",
       "      <td>75.0</td>\n",
       "      <td>0.0</td>\n",
       "    </tr>\n",
       "    <tr>\n",
       "      <th>1</th>\n",
       "      <td>76.0</td>\n",
       "      <td>72.0</td>\n",
       "      <td>71.0</td>\n",
       "      <td>72.0</td>\n",
       "      <td>71.0</td>\n",
       "      <td>74.0</td>\n",
       "      <td>71.0</td>\n",
       "      <td>73.0</td>\n",
       "      <td>71.0</td>\n",
       "      <td>69.0</td>\n",
       "      <td>...</td>\n",
       "      <td>79.0</td>\n",
       "      <td>76.0</td>\n",
       "      <td>75.0</td>\n",
       "      <td>76.0</td>\n",
       "      <td>75.0</td>\n",
       "      <td>74.0</td>\n",
       "      <td>76.0</td>\n",
       "      <td>76.0</td>\n",
       "      <td>74.0</td>\n",
       "      <td>0.0</td>\n",
       "    </tr>\n",
       "    <tr>\n",
       "      <th>2</th>\n",
       "      <td>86.0</td>\n",
       "      <td>80.0</td>\n",
       "      <td>83.0</td>\n",
       "      <td>85.0</td>\n",
       "      <td>82.0</td>\n",
       "      <td>84.0</td>\n",
       "      <td>87.0</td>\n",
       "      <td>82.0</td>\n",
       "      <td>84.0</td>\n",
       "      <td>89.0</td>\n",
       "      <td>...</td>\n",
       "      <td>78.0</td>\n",
       "      <td>81.0</td>\n",
       "      <td>74.0</td>\n",
       "      <td>77.0</td>\n",
       "      <td>77.0</td>\n",
       "      <td>79.0</td>\n",
       "      <td>78.0</td>\n",
       "      <td>77.0</td>\n",
       "      <td>78.0</td>\n",
       "      <td>1.0</td>\n",
       "    </tr>\n",
       "    <tr>\n",
       "      <th>3</th>\n",
       "      <td>80.0</td>\n",
       "      <td>81.0</td>\n",
       "      <td>77.0</td>\n",
       "      <td>81.0</td>\n",
       "      <td>66.0</td>\n",
       "      <td>79.0</td>\n",
       "      <td>80.0</td>\n",
       "      <td>80.0</td>\n",
       "      <td>77.0</td>\n",
       "      <td>80.0</td>\n",
       "      <td>...</td>\n",
       "      <td>76.0</td>\n",
       "      <td>71.0</td>\n",
       "      <td>77.0</td>\n",
       "      <td>77.0</td>\n",
       "      <td>76.0</td>\n",
       "      <td>66.0</td>\n",
       "      <td>75.0</td>\n",
       "      <td>77.0</td>\n",
       "      <td>75.0</td>\n",
       "      <td>1.0</td>\n",
       "    </tr>\n",
       "    <tr>\n",
       "      <th>4</th>\n",
       "      <td>76.0</td>\n",
       "      <td>72.0</td>\n",
       "      <td>78.0</td>\n",
       "      <td>73.0</td>\n",
       "      <td>71.0</td>\n",
       "      <td>70.0</td>\n",
       "      <td>72.0</td>\n",
       "      <td>68.0</td>\n",
       "      <td>75.0</td>\n",
       "      <td>78.0</td>\n",
       "      <td>...</td>\n",
       "      <td>78.0</td>\n",
       "      <td>73.0</td>\n",
       "      <td>74.0</td>\n",
       "      <td>74.0</td>\n",
       "      <td>77.0</td>\n",
       "      <td>75.0</td>\n",
       "      <td>78.0</td>\n",
       "      <td>79.0</td>\n",
       "      <td>79.0</td>\n",
       "      <td>3.0</td>\n",
       "    </tr>\n",
       "    <tr>\n",
       "      <th>...</th>\n",
       "      <td>...</td>\n",
       "      <td>...</td>\n",
       "      <td>...</td>\n",
       "      <td>...</td>\n",
       "      <td>...</td>\n",
       "      <td>...</td>\n",
       "      <td>...</td>\n",
       "      <td>...</td>\n",
       "      <td>...</td>\n",
       "      <td>...</td>\n",
       "      <td>...</td>\n",
       "      <td>...</td>\n",
       "      <td>...</td>\n",
       "      <td>...</td>\n",
       "      <td>...</td>\n",
       "      <td>...</td>\n",
       "      <td>...</td>\n",
       "      <td>...</td>\n",
       "      <td>...</td>\n",
       "      <td>...</td>\n",
       "      <td>...</td>\n",
       "    </tr>\n",
       "    <tr>\n",
       "      <th>375</th>\n",
       "      <td>71.0</td>\n",
       "      <td>78.0</td>\n",
       "      <td>81.0</td>\n",
       "      <td>77.0</td>\n",
       "      <td>78.0</td>\n",
       "      <td>77.0</td>\n",
       "      <td>76.0</td>\n",
       "      <td>78.0</td>\n",
       "      <td>75.0</td>\n",
       "      <td>79.0</td>\n",
       "      <td>...</td>\n",
       "      <td>73.0</td>\n",
       "      <td>78.0</td>\n",
       "      <td>74.0</td>\n",
       "      <td>71.0</td>\n",
       "      <td>72.0</td>\n",
       "      <td>76.0</td>\n",
       "      <td>68.0</td>\n",
       "      <td>78.0</td>\n",
       "      <td>75.0</td>\n",
       "      <td>1.0</td>\n",
       "    </tr>\n",
       "    <tr>\n",
       "      <th>376</th>\n",
       "      <td>78.0</td>\n",
       "      <td>76.0</td>\n",
       "      <td>78.0</td>\n",
       "      <td>81.0</td>\n",
       "      <td>74.0</td>\n",
       "      <td>77.0</td>\n",
       "      <td>77.0</td>\n",
       "      <td>64.0</td>\n",
       "      <td>79.0</td>\n",
       "      <td>77.0</td>\n",
       "      <td>...</td>\n",
       "      <td>76.0</td>\n",
       "      <td>76.0</td>\n",
       "      <td>74.0</td>\n",
       "      <td>76.0</td>\n",
       "      <td>76.0</td>\n",
       "      <td>80.0</td>\n",
       "      <td>80.0</td>\n",
       "      <td>79.0</td>\n",
       "      <td>75.0</td>\n",
       "      <td>0.0</td>\n",
       "    </tr>\n",
       "    <tr>\n",
       "      <th>377</th>\n",
       "      <td>85.0</td>\n",
       "      <td>79.0</td>\n",
       "      <td>81.0</td>\n",
       "      <td>82.0</td>\n",
       "      <td>77.0</td>\n",
       "      <td>72.0</td>\n",
       "      <td>80.0</td>\n",
       "      <td>80.0</td>\n",
       "      <td>83.0</td>\n",
       "      <td>78.0</td>\n",
       "      <td>...</td>\n",
       "      <td>81.0</td>\n",
       "      <td>81.0</td>\n",
       "      <td>77.0</td>\n",
       "      <td>79.0</td>\n",
       "      <td>75.0</td>\n",
       "      <td>80.0</td>\n",
       "      <td>84.0</td>\n",
       "      <td>80.0</td>\n",
       "      <td>76.0</td>\n",
       "      <td>1.0</td>\n",
       "    </tr>\n",
       "    <tr>\n",
       "      <th>378</th>\n",
       "      <td>75.0</td>\n",
       "      <td>77.0</td>\n",
       "      <td>76.0</td>\n",
       "      <td>71.0</td>\n",
       "      <td>69.0</td>\n",
       "      <td>77.0</td>\n",
       "      <td>71.0</td>\n",
       "      <td>73.0</td>\n",
       "      <td>75.0</td>\n",
       "      <td>66.0</td>\n",
       "      <td>...</td>\n",
       "      <td>83.0</td>\n",
       "      <td>83.0</td>\n",
       "      <td>80.0</td>\n",
       "      <td>79.0</td>\n",
       "      <td>85.0</td>\n",
       "      <td>82.0</td>\n",
       "      <td>87.0</td>\n",
       "      <td>86.0</td>\n",
       "      <td>81.0</td>\n",
       "      <td>0.0</td>\n",
       "    </tr>\n",
       "    <tr>\n",
       "      <th>379</th>\n",
       "      <td>72.0</td>\n",
       "      <td>66.0</td>\n",
       "      <td>75.0</td>\n",
       "      <td>78.0</td>\n",
       "      <td>73.0</td>\n",
       "      <td>73.0</td>\n",
       "      <td>75.0</td>\n",
       "      <td>78.0</td>\n",
       "      <td>77.0</td>\n",
       "      <td>76.0</td>\n",
       "      <td>...</td>\n",
       "      <td>75.0</td>\n",
       "      <td>78.0</td>\n",
       "      <td>72.0</td>\n",
       "      <td>78.0</td>\n",
       "      <td>77.0</td>\n",
       "      <td>71.0</td>\n",
       "      <td>74.0</td>\n",
       "      <td>76.0</td>\n",
       "      <td>76.0</td>\n",
       "      <td>3.0</td>\n",
       "    </tr>\n",
       "  </tbody>\n",
       "</table>\n",
       "<p>380 rows × 23 columns</p>\n",
       "</div>"
      ],
      "text/plain": [
       "     home_player_1_overall  home_player_2_overall  home_player_3_overall  \\\n",
       "0                     85.0                   79.0                   83.0   \n",
       "1                     76.0                   72.0                   71.0   \n",
       "2                     86.0                   80.0                   83.0   \n",
       "3                     80.0                   81.0                   77.0   \n",
       "4                     76.0                   72.0                   78.0   \n",
       "..                     ...                    ...                    ...   \n",
       "375                   71.0                   78.0                   81.0   \n",
       "376                   78.0                   76.0                   78.0   \n",
       "377                   85.0                   79.0                   81.0   \n",
       "378                   75.0                   77.0                   76.0   \n",
       "379                   72.0                   66.0                   75.0   \n",
       "\n",
       "     home_player_4_overall  home_player_5_overall  home_player_6_overall  \\\n",
       "0                     83.0                   80.0                   79.0   \n",
       "1                     72.0                   71.0                   74.0   \n",
       "2                     85.0                   82.0                   84.0   \n",
       "3                     81.0                   66.0                   79.0   \n",
       "4                     73.0                   71.0                   70.0   \n",
       "..                     ...                    ...                    ...   \n",
       "375                   77.0                   78.0                   77.0   \n",
       "376                   81.0                   74.0                   77.0   \n",
       "377                   82.0                   77.0                   72.0   \n",
       "378                   71.0                   69.0                   77.0   \n",
       "379                   78.0                   73.0                   73.0   \n",
       "\n",
       "     home_player_7_overall  home_player_8_overall  home_player_9_overall  \\\n",
       "0                     85.0                   82.0                   87.0   \n",
       "1                     71.0                   73.0                   71.0   \n",
       "2                     87.0                   82.0                   84.0   \n",
       "3                     80.0                   80.0                   77.0   \n",
       "4                     72.0                   68.0                   75.0   \n",
       "..                     ...                    ...                    ...   \n",
       "375                   76.0                   78.0                   75.0   \n",
       "376                   77.0                   64.0                   79.0   \n",
       "377                   80.0                   80.0                   83.0   \n",
       "378                   71.0                   73.0                   75.0   \n",
       "379                   75.0                   78.0                   77.0   \n",
       "\n",
       "     home_player_10_overall  ...  away_player_3_overall  \\\n",
       "0                      79.0  ...                   79.0   \n",
       "1                      69.0  ...                   79.0   \n",
       "2                      89.0  ...                   78.0   \n",
       "3                      80.0  ...                   76.0   \n",
       "4                      78.0  ...                   78.0   \n",
       "..                      ...  ...                    ...   \n",
       "375                    79.0  ...                   73.0   \n",
       "376                    77.0  ...                   76.0   \n",
       "377                    78.0  ...                   81.0   \n",
       "378                    66.0  ...                   83.0   \n",
       "379                    76.0  ...                   75.0   \n",
       "\n",
       "     away_player_4_overall  away_player_5_overall  away_player_6_overall  \\\n",
       "0                     79.0                   73.0                   76.0   \n",
       "1                     76.0                   75.0                   76.0   \n",
       "2                     81.0                   74.0                   77.0   \n",
       "3                     71.0                   77.0                   77.0   \n",
       "4                     73.0                   74.0                   74.0   \n",
       "..                     ...                    ...                    ...   \n",
       "375                   78.0                   74.0                   71.0   \n",
       "376                   76.0                   74.0                   76.0   \n",
       "377                   81.0                   77.0                   79.0   \n",
       "378                   83.0                   80.0                   79.0   \n",
       "379                   78.0                   72.0                   78.0   \n",
       "\n",
       "     away_player_7_overall  away_player_8_overall  away_player_9_overall  \\\n",
       "0                     62.0                   75.0                   81.0   \n",
       "1                     75.0                   74.0                   76.0   \n",
       "2                     77.0                   79.0                   78.0   \n",
       "3                     76.0                   66.0                   75.0   \n",
       "4                     77.0                   75.0                   78.0   \n",
       "..                     ...                    ...                    ...   \n",
       "375                   72.0                   76.0                   68.0   \n",
       "376                   76.0                   80.0                   80.0   \n",
       "377                   75.0                   80.0                   84.0   \n",
       "378                   85.0                   82.0                   87.0   \n",
       "379                   77.0                   71.0                   74.0   \n",
       "\n",
       "     away_player_10_overall  away_player_11_overall  results  \n",
       "0                      76.0                    75.0      0.0  \n",
       "1                      76.0                    74.0      0.0  \n",
       "2                      77.0                    78.0      1.0  \n",
       "3                      77.0                    75.0      1.0  \n",
       "4                      79.0                    79.0      3.0  \n",
       "..                      ...                     ...      ...  \n",
       "375                    78.0                    75.0      1.0  \n",
       "376                    79.0                    75.0      0.0  \n",
       "377                    80.0                    76.0      1.0  \n",
       "378                    86.0                    81.0      0.0  \n",
       "379                    76.0                    76.0      3.0  \n",
       "\n",
       "[380 rows x 23 columns]"
      ]
     },
     "execution_count": 24,
     "metadata": {},
     "output_type": "execute_result"
    }
   ],
   "source": [
    "prepared_df"
   ]
  },
  {
   "cell_type": "code",
   "execution_count": 27,
   "id": "616be1cb",
   "metadata": {},
   "outputs": [],
   "source": [
    "prepared_df = prepared_df.dropna()"
   ]
  },
  {
   "cell_type": "code",
   "execution_count": 28,
   "id": "e9598678",
   "metadata": {},
   "outputs": [
    {
     "data": {
      "text/html": [
       "<div>\n",
       "<style scoped>\n",
       "    .dataframe tbody tr th:only-of-type {\n",
       "        vertical-align: middle;\n",
       "    }\n",
       "\n",
       "    .dataframe tbody tr th {\n",
       "        vertical-align: top;\n",
       "    }\n",
       "\n",
       "    .dataframe thead th {\n",
       "        text-align: right;\n",
       "    }\n",
       "</style>\n",
       "<table border=\"1\" class=\"dataframe\">\n",
       "  <thead>\n",
       "    <tr style=\"text-align: right;\">\n",
       "      <th></th>\n",
       "      <th>home_player_1_overall</th>\n",
       "      <th>home_player_2_overall</th>\n",
       "      <th>home_player_3_overall</th>\n",
       "      <th>home_player_4_overall</th>\n",
       "      <th>home_player_5_overall</th>\n",
       "      <th>home_player_6_overall</th>\n",
       "      <th>home_player_7_overall</th>\n",
       "      <th>home_player_8_overall</th>\n",
       "      <th>home_player_9_overall</th>\n",
       "      <th>home_player_10_overall</th>\n",
       "      <th>...</th>\n",
       "      <th>away_player_3_overall</th>\n",
       "      <th>away_player_4_overall</th>\n",
       "      <th>away_player_5_overall</th>\n",
       "      <th>away_player_6_overall</th>\n",
       "      <th>away_player_7_overall</th>\n",
       "      <th>away_player_8_overall</th>\n",
       "      <th>away_player_9_overall</th>\n",
       "      <th>away_player_10_overall</th>\n",
       "      <th>away_player_11_overall</th>\n",
       "      <th>results</th>\n",
       "    </tr>\n",
       "  </thead>\n",
       "  <tbody>\n",
       "    <tr>\n",
       "      <th>0</th>\n",
       "      <td>85.0</td>\n",
       "      <td>79.0</td>\n",
       "      <td>83.0</td>\n",
       "      <td>83.0</td>\n",
       "      <td>80.0</td>\n",
       "      <td>79.0</td>\n",
       "      <td>85.0</td>\n",
       "      <td>82.0</td>\n",
       "      <td>87.0</td>\n",
       "      <td>79.0</td>\n",
       "      <td>...</td>\n",
       "      <td>79.0</td>\n",
       "      <td>79.0</td>\n",
       "      <td>73.0</td>\n",
       "      <td>76.0</td>\n",
       "      <td>62.0</td>\n",
       "      <td>75.0</td>\n",
       "      <td>81.0</td>\n",
       "      <td>76.0</td>\n",
       "      <td>75.0</td>\n",
       "      <td>0.0</td>\n",
       "    </tr>\n",
       "    <tr>\n",
       "      <th>1</th>\n",
       "      <td>76.0</td>\n",
       "      <td>72.0</td>\n",
       "      <td>71.0</td>\n",
       "      <td>72.0</td>\n",
       "      <td>71.0</td>\n",
       "      <td>74.0</td>\n",
       "      <td>71.0</td>\n",
       "      <td>73.0</td>\n",
       "      <td>71.0</td>\n",
       "      <td>69.0</td>\n",
       "      <td>...</td>\n",
       "      <td>79.0</td>\n",
       "      <td>76.0</td>\n",
       "      <td>75.0</td>\n",
       "      <td>76.0</td>\n",
       "      <td>75.0</td>\n",
       "      <td>74.0</td>\n",
       "      <td>76.0</td>\n",
       "      <td>76.0</td>\n",
       "      <td>74.0</td>\n",
       "      <td>0.0</td>\n",
       "    </tr>\n",
       "    <tr>\n",
       "      <th>2</th>\n",
       "      <td>86.0</td>\n",
       "      <td>80.0</td>\n",
       "      <td>83.0</td>\n",
       "      <td>85.0</td>\n",
       "      <td>82.0</td>\n",
       "      <td>84.0</td>\n",
       "      <td>87.0</td>\n",
       "      <td>82.0</td>\n",
       "      <td>84.0</td>\n",
       "      <td>89.0</td>\n",
       "      <td>...</td>\n",
       "      <td>78.0</td>\n",
       "      <td>81.0</td>\n",
       "      <td>74.0</td>\n",
       "      <td>77.0</td>\n",
       "      <td>77.0</td>\n",
       "      <td>79.0</td>\n",
       "      <td>78.0</td>\n",
       "      <td>77.0</td>\n",
       "      <td>78.0</td>\n",
       "      <td>1.0</td>\n",
       "    </tr>\n",
       "    <tr>\n",
       "      <th>3</th>\n",
       "      <td>80.0</td>\n",
       "      <td>81.0</td>\n",
       "      <td>77.0</td>\n",
       "      <td>81.0</td>\n",
       "      <td>66.0</td>\n",
       "      <td>79.0</td>\n",
       "      <td>80.0</td>\n",
       "      <td>80.0</td>\n",
       "      <td>77.0</td>\n",
       "      <td>80.0</td>\n",
       "      <td>...</td>\n",
       "      <td>76.0</td>\n",
       "      <td>71.0</td>\n",
       "      <td>77.0</td>\n",
       "      <td>77.0</td>\n",
       "      <td>76.0</td>\n",
       "      <td>66.0</td>\n",
       "      <td>75.0</td>\n",
       "      <td>77.0</td>\n",
       "      <td>75.0</td>\n",
       "      <td>1.0</td>\n",
       "    </tr>\n",
       "    <tr>\n",
       "      <th>4</th>\n",
       "      <td>76.0</td>\n",
       "      <td>72.0</td>\n",
       "      <td>78.0</td>\n",
       "      <td>73.0</td>\n",
       "      <td>71.0</td>\n",
       "      <td>70.0</td>\n",
       "      <td>72.0</td>\n",
       "      <td>68.0</td>\n",
       "      <td>75.0</td>\n",
       "      <td>78.0</td>\n",
       "      <td>...</td>\n",
       "      <td>78.0</td>\n",
       "      <td>73.0</td>\n",
       "      <td>74.0</td>\n",
       "      <td>74.0</td>\n",
       "      <td>77.0</td>\n",
       "      <td>75.0</td>\n",
       "      <td>78.0</td>\n",
       "      <td>79.0</td>\n",
       "      <td>79.0</td>\n",
       "      <td>3.0</td>\n",
       "    </tr>\n",
       "    <tr>\n",
       "      <th>...</th>\n",
       "      <td>...</td>\n",
       "      <td>...</td>\n",
       "      <td>...</td>\n",
       "      <td>...</td>\n",
       "      <td>...</td>\n",
       "      <td>...</td>\n",
       "      <td>...</td>\n",
       "      <td>...</td>\n",
       "      <td>...</td>\n",
       "      <td>...</td>\n",
       "      <td>...</td>\n",
       "      <td>...</td>\n",
       "      <td>...</td>\n",
       "      <td>...</td>\n",
       "      <td>...</td>\n",
       "      <td>...</td>\n",
       "      <td>...</td>\n",
       "      <td>...</td>\n",
       "      <td>...</td>\n",
       "      <td>...</td>\n",
       "      <td>...</td>\n",
       "    </tr>\n",
       "    <tr>\n",
       "      <th>375</th>\n",
       "      <td>71.0</td>\n",
       "      <td>78.0</td>\n",
       "      <td>81.0</td>\n",
       "      <td>77.0</td>\n",
       "      <td>78.0</td>\n",
       "      <td>77.0</td>\n",
       "      <td>76.0</td>\n",
       "      <td>78.0</td>\n",
       "      <td>75.0</td>\n",
       "      <td>79.0</td>\n",
       "      <td>...</td>\n",
       "      <td>73.0</td>\n",
       "      <td>78.0</td>\n",
       "      <td>74.0</td>\n",
       "      <td>71.0</td>\n",
       "      <td>72.0</td>\n",
       "      <td>76.0</td>\n",
       "      <td>68.0</td>\n",
       "      <td>78.0</td>\n",
       "      <td>75.0</td>\n",
       "      <td>1.0</td>\n",
       "    </tr>\n",
       "    <tr>\n",
       "      <th>376</th>\n",
       "      <td>78.0</td>\n",
       "      <td>76.0</td>\n",
       "      <td>78.0</td>\n",
       "      <td>81.0</td>\n",
       "      <td>74.0</td>\n",
       "      <td>77.0</td>\n",
       "      <td>77.0</td>\n",
       "      <td>64.0</td>\n",
       "      <td>79.0</td>\n",
       "      <td>77.0</td>\n",
       "      <td>...</td>\n",
       "      <td>76.0</td>\n",
       "      <td>76.0</td>\n",
       "      <td>74.0</td>\n",
       "      <td>76.0</td>\n",
       "      <td>76.0</td>\n",
       "      <td>80.0</td>\n",
       "      <td>80.0</td>\n",
       "      <td>79.0</td>\n",
       "      <td>75.0</td>\n",
       "      <td>0.0</td>\n",
       "    </tr>\n",
       "    <tr>\n",
       "      <th>377</th>\n",
       "      <td>85.0</td>\n",
       "      <td>79.0</td>\n",
       "      <td>81.0</td>\n",
       "      <td>82.0</td>\n",
       "      <td>77.0</td>\n",
       "      <td>72.0</td>\n",
       "      <td>80.0</td>\n",
       "      <td>80.0</td>\n",
       "      <td>83.0</td>\n",
       "      <td>78.0</td>\n",
       "      <td>...</td>\n",
       "      <td>81.0</td>\n",
       "      <td>81.0</td>\n",
       "      <td>77.0</td>\n",
       "      <td>79.0</td>\n",
       "      <td>75.0</td>\n",
       "      <td>80.0</td>\n",
       "      <td>84.0</td>\n",
       "      <td>80.0</td>\n",
       "      <td>76.0</td>\n",
       "      <td>1.0</td>\n",
       "    </tr>\n",
       "    <tr>\n",
       "      <th>378</th>\n",
       "      <td>75.0</td>\n",
       "      <td>77.0</td>\n",
       "      <td>76.0</td>\n",
       "      <td>71.0</td>\n",
       "      <td>69.0</td>\n",
       "      <td>77.0</td>\n",
       "      <td>71.0</td>\n",
       "      <td>73.0</td>\n",
       "      <td>75.0</td>\n",
       "      <td>66.0</td>\n",
       "      <td>...</td>\n",
       "      <td>83.0</td>\n",
       "      <td>83.0</td>\n",
       "      <td>80.0</td>\n",
       "      <td>79.0</td>\n",
       "      <td>85.0</td>\n",
       "      <td>82.0</td>\n",
       "      <td>87.0</td>\n",
       "      <td>86.0</td>\n",
       "      <td>81.0</td>\n",
       "      <td>0.0</td>\n",
       "    </tr>\n",
       "    <tr>\n",
       "      <th>379</th>\n",
       "      <td>72.0</td>\n",
       "      <td>66.0</td>\n",
       "      <td>75.0</td>\n",
       "      <td>78.0</td>\n",
       "      <td>73.0</td>\n",
       "      <td>73.0</td>\n",
       "      <td>75.0</td>\n",
       "      <td>78.0</td>\n",
       "      <td>77.0</td>\n",
       "      <td>76.0</td>\n",
       "      <td>...</td>\n",
       "      <td>75.0</td>\n",
       "      <td>78.0</td>\n",
       "      <td>72.0</td>\n",
       "      <td>78.0</td>\n",
       "      <td>77.0</td>\n",
       "      <td>71.0</td>\n",
       "      <td>74.0</td>\n",
       "      <td>76.0</td>\n",
       "      <td>76.0</td>\n",
       "      <td>3.0</td>\n",
       "    </tr>\n",
       "  </tbody>\n",
       "</table>\n",
       "<p>352 rows × 23 columns</p>\n",
       "</div>"
      ],
      "text/plain": [
       "     home_player_1_overall  home_player_2_overall  home_player_3_overall  \\\n",
       "0                     85.0                   79.0                   83.0   \n",
       "1                     76.0                   72.0                   71.0   \n",
       "2                     86.0                   80.0                   83.0   \n",
       "3                     80.0                   81.0                   77.0   \n",
       "4                     76.0                   72.0                   78.0   \n",
       "..                     ...                    ...                    ...   \n",
       "375                   71.0                   78.0                   81.0   \n",
       "376                   78.0                   76.0                   78.0   \n",
       "377                   85.0                   79.0                   81.0   \n",
       "378                   75.0                   77.0                   76.0   \n",
       "379                   72.0                   66.0                   75.0   \n",
       "\n",
       "     home_player_4_overall  home_player_5_overall  home_player_6_overall  \\\n",
       "0                     83.0                   80.0                   79.0   \n",
       "1                     72.0                   71.0                   74.0   \n",
       "2                     85.0                   82.0                   84.0   \n",
       "3                     81.0                   66.0                   79.0   \n",
       "4                     73.0                   71.0                   70.0   \n",
       "..                     ...                    ...                    ...   \n",
       "375                   77.0                   78.0                   77.0   \n",
       "376                   81.0                   74.0                   77.0   \n",
       "377                   82.0                   77.0                   72.0   \n",
       "378                   71.0                   69.0                   77.0   \n",
       "379                   78.0                   73.0                   73.0   \n",
       "\n",
       "     home_player_7_overall  home_player_8_overall  home_player_9_overall  \\\n",
       "0                     85.0                   82.0                   87.0   \n",
       "1                     71.0                   73.0                   71.0   \n",
       "2                     87.0                   82.0                   84.0   \n",
       "3                     80.0                   80.0                   77.0   \n",
       "4                     72.0                   68.0                   75.0   \n",
       "..                     ...                    ...                    ...   \n",
       "375                   76.0                   78.0                   75.0   \n",
       "376                   77.0                   64.0                   79.0   \n",
       "377                   80.0                   80.0                   83.0   \n",
       "378                   71.0                   73.0                   75.0   \n",
       "379                   75.0                   78.0                   77.0   \n",
       "\n",
       "     home_player_10_overall  ...  away_player_3_overall  \\\n",
       "0                      79.0  ...                   79.0   \n",
       "1                      69.0  ...                   79.0   \n",
       "2                      89.0  ...                   78.0   \n",
       "3                      80.0  ...                   76.0   \n",
       "4                      78.0  ...                   78.0   \n",
       "..                      ...  ...                    ...   \n",
       "375                    79.0  ...                   73.0   \n",
       "376                    77.0  ...                   76.0   \n",
       "377                    78.0  ...                   81.0   \n",
       "378                    66.0  ...                   83.0   \n",
       "379                    76.0  ...                   75.0   \n",
       "\n",
       "     away_player_4_overall  away_player_5_overall  away_player_6_overall  \\\n",
       "0                     79.0                   73.0                   76.0   \n",
       "1                     76.0                   75.0                   76.0   \n",
       "2                     81.0                   74.0                   77.0   \n",
       "3                     71.0                   77.0                   77.0   \n",
       "4                     73.0                   74.0                   74.0   \n",
       "..                     ...                    ...                    ...   \n",
       "375                   78.0                   74.0                   71.0   \n",
       "376                   76.0                   74.0                   76.0   \n",
       "377                   81.0                   77.0                   79.0   \n",
       "378                   83.0                   80.0                   79.0   \n",
       "379                   78.0                   72.0                   78.0   \n",
       "\n",
       "     away_player_7_overall  away_player_8_overall  away_player_9_overall  \\\n",
       "0                     62.0                   75.0                   81.0   \n",
       "1                     75.0                   74.0                   76.0   \n",
       "2                     77.0                   79.0                   78.0   \n",
       "3                     76.0                   66.0                   75.0   \n",
       "4                     77.0                   75.0                   78.0   \n",
       "..                     ...                    ...                    ...   \n",
       "375                   72.0                   76.0                   68.0   \n",
       "376                   76.0                   80.0                   80.0   \n",
       "377                   75.0                   80.0                   84.0   \n",
       "378                   85.0                   82.0                   87.0   \n",
       "379                   77.0                   71.0                   74.0   \n",
       "\n",
       "     away_player_10_overall  away_player_11_overall  results  \n",
       "0                      76.0                    75.0      0.0  \n",
       "1                      76.0                    74.0      0.0  \n",
       "2                      77.0                    78.0      1.0  \n",
       "3                      77.0                    75.0      1.0  \n",
       "4                      79.0                    79.0      3.0  \n",
       "..                      ...                     ...      ...  \n",
       "375                    78.0                    75.0      1.0  \n",
       "376                    79.0                    75.0      0.0  \n",
       "377                    80.0                    76.0      1.0  \n",
       "378                    86.0                    81.0      0.0  \n",
       "379                    76.0                    76.0      3.0  \n",
       "\n",
       "[352 rows x 23 columns]"
      ]
     },
     "execution_count": 28,
     "metadata": {},
     "output_type": "execute_result"
    }
   ],
   "source": [
    "prepared_df"
   ]
  },
  {
   "cell_type": "code",
   "execution_count": 29,
   "id": "abb2e3b5",
   "metadata": {},
   "outputs": [
    {
     "data": {
      "text/plain": [
       "False"
      ]
     },
     "execution_count": 29,
     "metadata": {},
     "output_type": "execute_result"
    }
   ],
   "source": [
    "np.any(np.isnan(prepared_df))"
   ]
  },
  {
   "cell_type": "markdown",
   "id": "cae06bb5",
   "metadata": {},
   "source": [
    "### Train the Model (Logistic Regression)"
   ]
  },
  {
   "cell_type": "code",
   "execution_count": 30,
   "id": "0e841b92",
   "metadata": {},
   "outputs": [],
   "source": [
    "features = prepared_df.drop('results', axis=1)"
   ]
  },
  {
   "cell_type": "code",
   "execution_count": 31,
   "id": "f2bd5e60",
   "metadata": {},
   "outputs": [
    {
     "data": {
      "text/html": [
       "<div>\n",
       "<style scoped>\n",
       "    .dataframe tbody tr th:only-of-type {\n",
       "        vertical-align: middle;\n",
       "    }\n",
       "\n",
       "    .dataframe tbody tr th {\n",
       "        vertical-align: top;\n",
       "    }\n",
       "\n",
       "    .dataframe thead th {\n",
       "        text-align: right;\n",
       "    }\n",
       "</style>\n",
       "<table border=\"1\" class=\"dataframe\">\n",
       "  <thead>\n",
       "    <tr style=\"text-align: right;\">\n",
       "      <th></th>\n",
       "      <th>home_player_1_overall</th>\n",
       "      <th>home_player_2_overall</th>\n",
       "      <th>home_player_3_overall</th>\n",
       "      <th>home_player_4_overall</th>\n",
       "      <th>home_player_5_overall</th>\n",
       "      <th>home_player_6_overall</th>\n",
       "      <th>home_player_7_overall</th>\n",
       "      <th>home_player_8_overall</th>\n",
       "      <th>home_player_9_overall</th>\n",
       "      <th>home_player_10_overall</th>\n",
       "      <th>...</th>\n",
       "      <th>away_player_2_overall</th>\n",
       "      <th>away_player_3_overall</th>\n",
       "      <th>away_player_4_overall</th>\n",
       "      <th>away_player_5_overall</th>\n",
       "      <th>away_player_6_overall</th>\n",
       "      <th>away_player_7_overall</th>\n",
       "      <th>away_player_8_overall</th>\n",
       "      <th>away_player_9_overall</th>\n",
       "      <th>away_player_10_overall</th>\n",
       "      <th>away_player_11_overall</th>\n",
       "    </tr>\n",
       "  </thead>\n",
       "  <tbody>\n",
       "    <tr>\n",
       "      <th>0</th>\n",
       "      <td>85.0</td>\n",
       "      <td>79.0</td>\n",
       "      <td>83.0</td>\n",
       "      <td>83.0</td>\n",
       "      <td>80.0</td>\n",
       "      <td>79.0</td>\n",
       "      <td>85.0</td>\n",
       "      <td>82.0</td>\n",
       "      <td>87.0</td>\n",
       "      <td>79.0</td>\n",
       "      <td>...</td>\n",
       "      <td>73.0</td>\n",
       "      <td>79.0</td>\n",
       "      <td>79.0</td>\n",
       "      <td>73.0</td>\n",
       "      <td>76.0</td>\n",
       "      <td>62.0</td>\n",
       "      <td>75.0</td>\n",
       "      <td>81.0</td>\n",
       "      <td>76.0</td>\n",
       "      <td>75.0</td>\n",
       "    </tr>\n",
       "    <tr>\n",
       "      <th>1</th>\n",
       "      <td>76.0</td>\n",
       "      <td>72.0</td>\n",
       "      <td>71.0</td>\n",
       "      <td>72.0</td>\n",
       "      <td>71.0</td>\n",
       "      <td>74.0</td>\n",
       "      <td>71.0</td>\n",
       "      <td>73.0</td>\n",
       "      <td>71.0</td>\n",
       "      <td>69.0</td>\n",
       "      <td>...</td>\n",
       "      <td>73.0</td>\n",
       "      <td>79.0</td>\n",
       "      <td>76.0</td>\n",
       "      <td>75.0</td>\n",
       "      <td>76.0</td>\n",
       "      <td>75.0</td>\n",
       "      <td>74.0</td>\n",
       "      <td>76.0</td>\n",
       "      <td>76.0</td>\n",
       "      <td>74.0</td>\n",
       "    </tr>\n",
       "    <tr>\n",
       "      <th>2</th>\n",
       "      <td>86.0</td>\n",
       "      <td>80.0</td>\n",
       "      <td>83.0</td>\n",
       "      <td>85.0</td>\n",
       "      <td>82.0</td>\n",
       "      <td>84.0</td>\n",
       "      <td>87.0</td>\n",
       "      <td>82.0</td>\n",
       "      <td>84.0</td>\n",
       "      <td>89.0</td>\n",
       "      <td>...</td>\n",
       "      <td>74.0</td>\n",
       "      <td>78.0</td>\n",
       "      <td>81.0</td>\n",
       "      <td>74.0</td>\n",
       "      <td>77.0</td>\n",
       "      <td>77.0</td>\n",
       "      <td>79.0</td>\n",
       "      <td>78.0</td>\n",
       "      <td>77.0</td>\n",
       "      <td>78.0</td>\n",
       "    </tr>\n",
       "    <tr>\n",
       "      <th>3</th>\n",
       "      <td>80.0</td>\n",
       "      <td>81.0</td>\n",
       "      <td>77.0</td>\n",
       "      <td>81.0</td>\n",
       "      <td>66.0</td>\n",
       "      <td>79.0</td>\n",
       "      <td>80.0</td>\n",
       "      <td>80.0</td>\n",
       "      <td>77.0</td>\n",
       "      <td>80.0</td>\n",
       "      <td>...</td>\n",
       "      <td>77.0</td>\n",
       "      <td>76.0</td>\n",
       "      <td>71.0</td>\n",
       "      <td>77.0</td>\n",
       "      <td>77.0</td>\n",
       "      <td>76.0</td>\n",
       "      <td>66.0</td>\n",
       "      <td>75.0</td>\n",
       "      <td>77.0</td>\n",
       "      <td>75.0</td>\n",
       "    </tr>\n",
       "    <tr>\n",
       "      <th>4</th>\n",
       "      <td>76.0</td>\n",
       "      <td>72.0</td>\n",
       "      <td>78.0</td>\n",
       "      <td>73.0</td>\n",
       "      <td>71.0</td>\n",
       "      <td>70.0</td>\n",
       "      <td>72.0</td>\n",
       "      <td>68.0</td>\n",
       "      <td>75.0</td>\n",
       "      <td>78.0</td>\n",
       "      <td>...</td>\n",
       "      <td>72.0</td>\n",
       "      <td>78.0</td>\n",
       "      <td>73.0</td>\n",
       "      <td>74.0</td>\n",
       "      <td>74.0</td>\n",
       "      <td>77.0</td>\n",
       "      <td>75.0</td>\n",
       "      <td>78.0</td>\n",
       "      <td>79.0</td>\n",
       "      <td>79.0</td>\n",
       "    </tr>\n",
       "    <tr>\n",
       "      <th>...</th>\n",
       "      <td>...</td>\n",
       "      <td>...</td>\n",
       "      <td>...</td>\n",
       "      <td>...</td>\n",
       "      <td>...</td>\n",
       "      <td>...</td>\n",
       "      <td>...</td>\n",
       "      <td>...</td>\n",
       "      <td>...</td>\n",
       "      <td>...</td>\n",
       "      <td>...</td>\n",
       "      <td>...</td>\n",
       "      <td>...</td>\n",
       "      <td>...</td>\n",
       "      <td>...</td>\n",
       "      <td>...</td>\n",
       "      <td>...</td>\n",
       "      <td>...</td>\n",
       "      <td>...</td>\n",
       "      <td>...</td>\n",
       "      <td>...</td>\n",
       "    </tr>\n",
       "    <tr>\n",
       "      <th>375</th>\n",
       "      <td>71.0</td>\n",
       "      <td>78.0</td>\n",
       "      <td>81.0</td>\n",
       "      <td>77.0</td>\n",
       "      <td>78.0</td>\n",
       "      <td>77.0</td>\n",
       "      <td>76.0</td>\n",
       "      <td>78.0</td>\n",
       "      <td>75.0</td>\n",
       "      <td>79.0</td>\n",
       "      <td>...</td>\n",
       "      <td>71.0</td>\n",
       "      <td>73.0</td>\n",
       "      <td>78.0</td>\n",
       "      <td>74.0</td>\n",
       "      <td>71.0</td>\n",
       "      <td>72.0</td>\n",
       "      <td>76.0</td>\n",
       "      <td>68.0</td>\n",
       "      <td>78.0</td>\n",
       "      <td>75.0</td>\n",
       "    </tr>\n",
       "    <tr>\n",
       "      <th>376</th>\n",
       "      <td>78.0</td>\n",
       "      <td>76.0</td>\n",
       "      <td>78.0</td>\n",
       "      <td>81.0</td>\n",
       "      <td>74.0</td>\n",
       "      <td>77.0</td>\n",
       "      <td>77.0</td>\n",
       "      <td>64.0</td>\n",
       "      <td>79.0</td>\n",
       "      <td>77.0</td>\n",
       "      <td>...</td>\n",
       "      <td>77.0</td>\n",
       "      <td>76.0</td>\n",
       "      <td>76.0</td>\n",
       "      <td>74.0</td>\n",
       "      <td>76.0</td>\n",
       "      <td>76.0</td>\n",
       "      <td>80.0</td>\n",
       "      <td>80.0</td>\n",
       "      <td>79.0</td>\n",
       "      <td>75.0</td>\n",
       "    </tr>\n",
       "    <tr>\n",
       "      <th>377</th>\n",
       "      <td>85.0</td>\n",
       "      <td>79.0</td>\n",
       "      <td>81.0</td>\n",
       "      <td>82.0</td>\n",
       "      <td>77.0</td>\n",
       "      <td>72.0</td>\n",
       "      <td>80.0</td>\n",
       "      <td>80.0</td>\n",
       "      <td>83.0</td>\n",
       "      <td>78.0</td>\n",
       "      <td>...</td>\n",
       "      <td>80.0</td>\n",
       "      <td>81.0</td>\n",
       "      <td>81.0</td>\n",
       "      <td>77.0</td>\n",
       "      <td>79.0</td>\n",
       "      <td>75.0</td>\n",
       "      <td>80.0</td>\n",
       "      <td>84.0</td>\n",
       "      <td>80.0</td>\n",
       "      <td>76.0</td>\n",
       "    </tr>\n",
       "    <tr>\n",
       "      <th>378</th>\n",
       "      <td>75.0</td>\n",
       "      <td>77.0</td>\n",
       "      <td>76.0</td>\n",
       "      <td>71.0</td>\n",
       "      <td>69.0</td>\n",
       "      <td>77.0</td>\n",
       "      <td>71.0</td>\n",
       "      <td>73.0</td>\n",
       "      <td>75.0</td>\n",
       "      <td>66.0</td>\n",
       "      <td>...</td>\n",
       "      <td>76.0</td>\n",
       "      <td>83.0</td>\n",
       "      <td>83.0</td>\n",
       "      <td>80.0</td>\n",
       "      <td>79.0</td>\n",
       "      <td>85.0</td>\n",
       "      <td>82.0</td>\n",
       "      <td>87.0</td>\n",
       "      <td>86.0</td>\n",
       "      <td>81.0</td>\n",
       "    </tr>\n",
       "    <tr>\n",
       "      <th>379</th>\n",
       "      <td>72.0</td>\n",
       "      <td>66.0</td>\n",
       "      <td>75.0</td>\n",
       "      <td>78.0</td>\n",
       "      <td>73.0</td>\n",
       "      <td>73.0</td>\n",
       "      <td>75.0</td>\n",
       "      <td>78.0</td>\n",
       "      <td>77.0</td>\n",
       "      <td>76.0</td>\n",
       "      <td>...</td>\n",
       "      <td>70.0</td>\n",
       "      <td>75.0</td>\n",
       "      <td>78.0</td>\n",
       "      <td>72.0</td>\n",
       "      <td>78.0</td>\n",
       "      <td>77.0</td>\n",
       "      <td>71.0</td>\n",
       "      <td>74.0</td>\n",
       "      <td>76.0</td>\n",
       "      <td>76.0</td>\n",
       "    </tr>\n",
       "  </tbody>\n",
       "</table>\n",
       "<p>352 rows × 22 columns</p>\n",
       "</div>"
      ],
      "text/plain": [
       "     home_player_1_overall  home_player_2_overall  home_player_3_overall  \\\n",
       "0                     85.0                   79.0                   83.0   \n",
       "1                     76.0                   72.0                   71.0   \n",
       "2                     86.0                   80.0                   83.0   \n",
       "3                     80.0                   81.0                   77.0   \n",
       "4                     76.0                   72.0                   78.0   \n",
       "..                     ...                    ...                    ...   \n",
       "375                   71.0                   78.0                   81.0   \n",
       "376                   78.0                   76.0                   78.0   \n",
       "377                   85.0                   79.0                   81.0   \n",
       "378                   75.0                   77.0                   76.0   \n",
       "379                   72.0                   66.0                   75.0   \n",
       "\n",
       "     home_player_4_overall  home_player_5_overall  home_player_6_overall  \\\n",
       "0                     83.0                   80.0                   79.0   \n",
       "1                     72.0                   71.0                   74.0   \n",
       "2                     85.0                   82.0                   84.0   \n",
       "3                     81.0                   66.0                   79.0   \n",
       "4                     73.0                   71.0                   70.0   \n",
       "..                     ...                    ...                    ...   \n",
       "375                   77.0                   78.0                   77.0   \n",
       "376                   81.0                   74.0                   77.0   \n",
       "377                   82.0                   77.0                   72.0   \n",
       "378                   71.0                   69.0                   77.0   \n",
       "379                   78.0                   73.0                   73.0   \n",
       "\n",
       "     home_player_7_overall  home_player_8_overall  home_player_9_overall  \\\n",
       "0                     85.0                   82.0                   87.0   \n",
       "1                     71.0                   73.0                   71.0   \n",
       "2                     87.0                   82.0                   84.0   \n",
       "3                     80.0                   80.0                   77.0   \n",
       "4                     72.0                   68.0                   75.0   \n",
       "..                     ...                    ...                    ...   \n",
       "375                   76.0                   78.0                   75.0   \n",
       "376                   77.0                   64.0                   79.0   \n",
       "377                   80.0                   80.0                   83.0   \n",
       "378                   71.0                   73.0                   75.0   \n",
       "379                   75.0                   78.0                   77.0   \n",
       "\n",
       "     home_player_10_overall  ...  away_player_2_overall  \\\n",
       "0                      79.0  ...                   73.0   \n",
       "1                      69.0  ...                   73.0   \n",
       "2                      89.0  ...                   74.0   \n",
       "3                      80.0  ...                   77.0   \n",
       "4                      78.0  ...                   72.0   \n",
       "..                      ...  ...                    ...   \n",
       "375                    79.0  ...                   71.0   \n",
       "376                    77.0  ...                   77.0   \n",
       "377                    78.0  ...                   80.0   \n",
       "378                    66.0  ...                   76.0   \n",
       "379                    76.0  ...                   70.0   \n",
       "\n",
       "     away_player_3_overall  away_player_4_overall  away_player_5_overall  \\\n",
       "0                     79.0                   79.0                   73.0   \n",
       "1                     79.0                   76.0                   75.0   \n",
       "2                     78.0                   81.0                   74.0   \n",
       "3                     76.0                   71.0                   77.0   \n",
       "4                     78.0                   73.0                   74.0   \n",
       "..                     ...                    ...                    ...   \n",
       "375                   73.0                   78.0                   74.0   \n",
       "376                   76.0                   76.0                   74.0   \n",
       "377                   81.0                   81.0                   77.0   \n",
       "378                   83.0                   83.0                   80.0   \n",
       "379                   75.0                   78.0                   72.0   \n",
       "\n",
       "     away_player_6_overall  away_player_7_overall  away_player_8_overall  \\\n",
       "0                     76.0                   62.0                   75.0   \n",
       "1                     76.0                   75.0                   74.0   \n",
       "2                     77.0                   77.0                   79.0   \n",
       "3                     77.0                   76.0                   66.0   \n",
       "4                     74.0                   77.0                   75.0   \n",
       "..                     ...                    ...                    ...   \n",
       "375                   71.0                   72.0                   76.0   \n",
       "376                   76.0                   76.0                   80.0   \n",
       "377                   79.0                   75.0                   80.0   \n",
       "378                   79.0                   85.0                   82.0   \n",
       "379                   78.0                   77.0                   71.0   \n",
       "\n",
       "     away_player_9_overall  away_player_10_overall  away_player_11_overall  \n",
       "0                     81.0                    76.0                    75.0  \n",
       "1                     76.0                    76.0                    74.0  \n",
       "2                     78.0                    77.0                    78.0  \n",
       "3                     75.0                    77.0                    75.0  \n",
       "4                     78.0                    79.0                    79.0  \n",
       "..                     ...                     ...                     ...  \n",
       "375                   68.0                    78.0                    75.0  \n",
       "376                   80.0                    79.0                    75.0  \n",
       "377                   84.0                    80.0                    76.0  \n",
       "378                   87.0                    86.0                    81.0  \n",
       "379                   74.0                    76.0                    76.0  \n",
       "\n",
       "[352 rows x 22 columns]"
      ]
     },
     "execution_count": 31,
     "metadata": {},
     "output_type": "execute_result"
    }
   ],
   "source": [
    "features"
   ]
  },
  {
   "cell_type": "code",
   "execution_count": 32,
   "id": "eea419f8",
   "metadata": {},
   "outputs": [],
   "source": [
    "target = prepared_df['results']"
   ]
  },
  {
   "cell_type": "code",
   "execution_count": 35,
   "id": "4c242d6d",
   "metadata": {},
   "outputs": [],
   "source": [
    "logisticRegr = LogisticRegression()\n",
    "\n",
    "knn = KNeighborsClassifier()\n"
   ]
  },
  {
   "cell_type": "code",
   "execution_count": 36,
   "id": "1fea2ead",
   "metadata": {},
   "outputs": [],
   "source": [
    "x_train, x_test, y_train, y_test = train_test_split(features, target, test_size=0.25, random_state=0)"
   ]
  },
  {
   "cell_type": "code",
   "execution_count": 37,
   "id": "8d7cc57e",
   "metadata": {},
   "outputs": [
    {
     "data": {
      "text/plain": [
       "142    1.0\n",
       "278    0.0\n",
       "66     3.0\n",
       "246    3.0\n",
       "12     0.0\n",
       "      ... \n",
       "351    3.0\n",
       "200    0.0\n",
       "117    1.0\n",
       "47     3.0\n",
       "174    0.0\n",
       "Name: results, Length: 264, dtype: float64"
      ]
     },
     "execution_count": 37,
     "metadata": {},
     "output_type": "execute_result"
    }
   ],
   "source": [
    "y_train"
   ]
  },
  {
   "cell_type": "code",
   "execution_count": 39,
   "id": "ad664a5b",
   "metadata": {},
   "outputs": [
    {
     "data": {
      "text/plain": [
       "LogisticRegression()"
      ]
     },
     "execution_count": 39,
     "metadata": {},
     "output_type": "execute_result"
    }
   ],
   "source": [
    "logisticRegr.fit(x_train, y_train)"
   ]
  },
  {
   "cell_type": "code",
   "execution_count": 40,
   "id": "1b73c2fd",
   "metadata": {},
   "outputs": [],
   "source": [
    "y_pred = logisticRegr.predict(x_test)"
   ]
  },
  {
   "cell_type": "markdown",
   "id": "cac3eff4",
   "metadata": {},
   "source": [
    "### Accuracy of Logistic Regression"
   ]
  },
  {
   "cell_type": "code",
   "execution_count": 43,
   "id": "5a964bce",
   "metadata": {},
   "outputs": [],
   "source": [
    "accuracy = accuracy_score(y_test, y_pred)\n",
    "accuracy"
   ]
  },
  {
   "cell_type": "code",
   "execution_count": 45,
   "id": "ec0bae13",
   "metadata": {},
   "outputs": [
    {
     "data": {
      "text/plain": [
       "0.5340909090909091"
      ]
     },
     "execution_count": 45,
     "metadata": {},
     "output_type": "execute_result"
    }
   ],
   "source": [
    "logisticRegr.score(x_train,y_train)"
   ]
  },
  {
   "cell_type": "code",
   "execution_count": 46,
   "id": "ca1087e6",
   "metadata": {},
   "outputs": [],
   "source": [
    "logisticRegr_ovr = LogisticRegression(multi_class = \"ovr\", solver=\"newton-cg\")"
   ]
  },
  {
   "cell_type": "code",
   "execution_count": 47,
   "id": "7bf6eff7",
   "metadata": {},
   "outputs": [
    {
     "data": {
      "text/plain": [
       "LogisticRegression(multi_class='ovr', solver='newton-cg')"
      ]
     },
     "execution_count": 47,
     "metadata": {},
     "output_type": "execute_result"
    }
   ],
   "source": [
    "logisticRegr_ovr.fit(x_train, y_train)"
   ]
  },
  {
   "cell_type": "code",
   "execution_count": 48,
   "id": "6cd6b604",
   "metadata": {},
   "outputs": [
    {
     "data": {
      "text/plain": [
       "0.5189393939393939"
      ]
     },
     "execution_count": 48,
     "metadata": {},
     "output_type": "execute_result"
    }
   ],
   "source": [
    "logisticRegr_ovr.score(x_train, y_train)"
   ]
  },
  {
   "cell_type": "code",
   "execution_count": 49,
   "id": "22c6f8df",
   "metadata": {},
   "outputs": [],
   "source": [
    "y_pred_ovr = logisticRegr_ovr.predict(x_test)"
   ]
  },
  {
   "cell_type": "code",
   "execution_count": 50,
   "id": "5d671685",
   "metadata": {},
   "outputs": [],
   "source": [
    "accuracy = accuracy_score(y_test, y_pred_ovr)"
   ]
  },
  {
   "cell_type": "code",
   "execution_count": 51,
   "id": "8ec5b836",
   "metadata": {},
   "outputs": [
    {
     "data": {
      "text/plain": [
       "0.4431818181818182"
      ]
     },
     "execution_count": 51,
     "metadata": {},
     "output_type": "execute_result"
    }
   ],
   "source": [
    "accuracy"
   ]
  },
  {
   "cell_type": "code",
   "execution_count": 52,
   "id": "57cf43bf",
   "metadata": {},
   "outputs": [],
   "source": [
    "from sklearn.metrics import classification_report, accuracy_score\n",
    "from sklearn.metrics import roc_auc_score\n"
   ]
  },
  {
   "cell_type": "markdown",
   "id": "73458ef0",
   "metadata": {},
   "source": [
    "### Confusion Matrix for Logisitic Regression with One vs Rest"
   ]
  },
  {
   "cell_type": "code",
   "execution_count": 53,
   "id": "1f72686d",
   "metadata": {},
   "outputs": [],
   "source": [
    "report = confusion_matrix(y_test, y_pred_ovr)"
   ]
  },
  {
   "cell_type": "code",
   "execution_count": 54,
   "id": "56b80606",
   "metadata": {},
   "outputs": [
    {
     "data": {
      "text/plain": [
       "array([[ 6,  3, 19],\n",
       "       [ 7,  9, 12],\n",
       "       [ 6,  2, 24]])"
      ]
     },
     "execution_count": 54,
     "metadata": {},
     "output_type": "execute_result"
    }
   ],
   "source": [
    "report"
   ]
  },
  {
   "cell_type": "markdown",
   "id": "54249d21",
   "metadata": {},
   "source": [
    "### We found that best logistic regression score is 44% training score is 52%"
   ]
  },
  {
   "cell_type": "code",
   "execution_count": 55,
   "id": "bb7eda94",
   "metadata": {},
   "outputs": [],
   "source": [
    "knn = KNeighborsClassifier()"
   ]
  },
  {
   "cell_type": "code",
   "execution_count": 56,
   "id": "9d68c318",
   "metadata": {},
   "outputs": [
    {
     "data": {
      "text/plain": [
       "KNeighborsClassifier()"
      ]
     },
     "execution_count": 56,
     "metadata": {},
     "output_type": "execute_result"
    }
   ],
   "source": [
    "knn.fit(x_train, y_train)"
   ]
  },
  {
   "cell_type": "code",
   "execution_count": 57,
   "id": "eea6db6c",
   "metadata": {},
   "outputs": [],
   "source": [
    "y_pred_knn = knn.predict(x_test)"
   ]
  },
  {
   "cell_type": "code",
   "execution_count": 59,
   "id": "6ebf0c90",
   "metadata": {},
   "outputs": [
    {
     "data": {
      "text/plain": [
       "0.571969696969697"
      ]
     },
     "execution_count": 59,
     "metadata": {},
     "output_type": "execute_result"
    }
   ],
   "source": [
    "knn.score(x_train, y_train)"
   ]
  },
  {
   "cell_type": "code",
   "execution_count": 60,
   "id": "d2012a01",
   "metadata": {},
   "outputs": [],
   "source": [
    "accuracy_score_knn = accuracy_score(y_test, y_pred_knn)"
   ]
  },
  {
   "cell_type": "code",
   "execution_count": 61,
   "id": "9392b19e",
   "metadata": {},
   "outputs": [
    {
     "data": {
      "text/plain": [
       "0.3409090909090909"
      ]
     },
     "execution_count": 61,
     "metadata": {},
     "output_type": "execute_result"
    }
   ],
   "source": [
    "accuracy_score_knn"
   ]
  },
  {
   "cell_type": "markdown",
   "id": "fae11720",
   "metadata": {},
   "source": [
    "### We found that best knn score is 34% training score is 57% Very prone to overfitting"
   ]
  },
  {
   "cell_type": "code",
   "execution_count": 62,
   "id": "109c6154",
   "metadata": {},
   "outputs": [],
   "source": [
    "gauss_nb = GaussianNB()"
   ]
  },
  {
   "cell_type": "code",
   "execution_count": 63,
   "id": "a3880279",
   "metadata": {},
   "outputs": [
    {
     "data": {
      "text/plain": [
       "GaussianNB()"
      ]
     },
     "execution_count": 63,
     "metadata": {},
     "output_type": "execute_result"
    }
   ],
   "source": [
    "gauss_nb.fit(x_train, y_train)"
   ]
  },
  {
   "cell_type": "code",
   "execution_count": 64,
   "id": "de6ea50e",
   "metadata": {},
   "outputs": [
    {
     "data": {
      "text/plain": [
       "0.5265151515151515"
      ]
     },
     "execution_count": 64,
     "metadata": {},
     "output_type": "execute_result"
    }
   ],
   "source": [
    "gauss_nb.score(x_train, y_train)"
   ]
  },
  {
   "cell_type": "code",
   "execution_count": 65,
   "id": "66a39653",
   "metadata": {},
   "outputs": [],
   "source": [
    "y_pred_gaussian_nb = gauss_nb.predict(x_test)"
   ]
  },
  {
   "cell_type": "code",
   "execution_count": 66,
   "id": "63cea2c4",
   "metadata": {},
   "outputs": [],
   "source": [
    "accuracy_gaussian_nb = accuracy_score(y_test, y_pred_gaussian_nb)"
   ]
  },
  {
   "cell_type": "code",
   "execution_count": 67,
   "id": "03e4d662",
   "metadata": {},
   "outputs": [
    {
     "data": {
      "text/plain": [
       "0.375"
      ]
     },
     "execution_count": 67,
     "metadata": {},
     "output_type": "execute_result"
    }
   ],
   "source": [
    "accuracy_gaussian_nb"
   ]
  },
  {
   "cell_type": "markdown",
   "id": "64f8342a",
   "metadata": {},
   "source": [
    "### Best Naive Gaussian score is 37.5% training score is 52%"
   ]
  },
  {
   "cell_type": "code",
   "execution_count": 68,
   "id": "75bb4346",
   "metadata": {},
   "outputs": [],
   "source": [
    "rand_forest = RandomForestClassifier()"
   ]
  },
  {
   "cell_type": "code",
   "execution_count": 69,
   "id": "9a12d6dd",
   "metadata": {},
   "outputs": [
    {
     "data": {
      "text/plain": [
       "RandomForestClassifier()"
      ]
     },
     "execution_count": 69,
     "metadata": {},
     "output_type": "execute_result"
    }
   ],
   "source": [
    "rand_forest.fit(x_train, y_train)"
   ]
  },
  {
   "cell_type": "code",
   "execution_count": 70,
   "id": "3e990d79",
   "metadata": {},
   "outputs": [],
   "source": [
    "y_pred_rand_forest = rand_forest.predict(x_test)"
   ]
  },
  {
   "cell_type": "code",
   "execution_count": 71,
   "id": "bbe15e3f",
   "metadata": {},
   "outputs": [],
   "source": [
    "accuracy_score_rand_forest = accuracy_score(y_test, y_pred_rand_forest)"
   ]
  },
  {
   "cell_type": "code",
   "execution_count": 72,
   "id": "add98dd8",
   "metadata": {},
   "outputs": [
    {
     "data": {
      "text/plain": [
       "0.36363636363636365"
      ]
     },
     "execution_count": 72,
     "metadata": {},
     "output_type": "execute_result"
    }
   ],
   "source": [
    "accuracy_score_rand_forest"
   ]
  },
  {
   "cell_type": "markdown",
   "id": "7a2ff18e",
   "metadata": {},
   "source": [
    "### Hyperparameter Tuning for Random Forest"
   ]
  },
  {
   "cell_type": "code",
   "execution_count": 74,
   "id": "73c86a9b",
   "metadata": {},
   "outputs": [
    {
     "name": "stdout",
     "output_type": "stream",
     "text": [
      "{'n_estimators': [200, 400, 600, 800, 1000, 1200, 1400, 1600, 1800, 2000], 'max_features': ['auto', 'sqrt'], 'max_depth': [10, 20, 30, 40, 50, 60, 70, 80, 90, 100, 110, None], 'min_samples_split': [2, 5, 10], 'min_samples_leaf': [1, 2, 4], 'bootstrap': [True, False]}\n"
     ]
    },
    {
     "data": {
      "text/plain": [
       "{'bootstrap': [True, False],\n",
       " 'max_depth': [10, 20, 30, 40, 50, 60, 70, 80, 90, 100, None],\n",
       " 'max_features': ['auto', 'sqrt'],\n",
       " 'min_samples_leaf': [1, 2, 4],\n",
       " 'min_samples_split': [2, 5, 10],\n",
       " 'n_estimators': [200, 400, 600, 800, 1000, 1200, 1400, 1600, 1800, 2000]}"
      ]
     },
     "execution_count": 74,
     "metadata": {},
     "output_type": "execute_result"
    }
   ],
   "source": [
    "from sklearn.model_selection import RandomizedSearchCV\n",
    "# Number of trees in random forest\n",
    "n_estimators = [int(x) for x in np.linspace(start = 200, stop = 2000, num = 10)]\n",
    "# Number of features to consider at every split\n",
    "max_features = ['auto', 'sqrt']\n",
    "# Maximum number of levels in tree\n",
    "max_depth = [int(x) for x in np.linspace(10, 110, num = 11)]\n",
    "max_depth.append(None)\n",
    "# Minimum number of samples required to split a node\n",
    "min_samples_split = [2, 5, 10]\n",
    "# Minimum number of samples required at each leaf node\n",
    "min_samples_leaf = [1, 2, 4]\n",
    "# Method of selecting samples for training each tree\n",
    "bootstrap = [True, False]\n",
    "# Create the random grid\n",
    "random_grid = {'n_estimators': n_estimators,\n",
    "               'max_features': max_features,\n",
    "               'max_depth': max_depth,\n",
    "               'min_samples_split': min_samples_split,\n",
    "               'min_samples_leaf': min_samples_leaf,\n",
    "               'bootstrap': bootstrap}\n",
    "print(random_grid)\n",
    "{'bootstrap': [True, False],\n",
    " 'max_depth': [10, 20, 30, 40, 50, 60, 70, 80, 90, 100, None],\n",
    " 'max_features': ['auto', 'sqrt'],\n",
    " 'min_samples_leaf': [1, 2, 4],\n",
    " 'min_samples_split': [2, 5, 10],\n",
    " 'n_estimators': [200, 400, 600, 800, 1000, 1200, 1400, 1600, 1800, 2000]}"
   ]
  },
  {
   "cell_type": "code",
   "execution_count": 75,
   "id": "034650e1",
   "metadata": {},
   "outputs": [],
   "source": [
    "rf_random = RandomizedSearchCV(estimator = rand_forest, param_distributions = random_grid,\\\n",
    "                               n_iter = 100, cv = 3, verbose=2, random_state=42, n_jobs = -1)"
   ]
  },
  {
   "cell_type": "code",
   "execution_count": 76,
   "id": "3aed71a8",
   "metadata": {},
   "outputs": [
    {
     "name": "stdout",
     "output_type": "stream",
     "text": [
      "Fitting 3 folds for each of 100 candidates, totalling 300 fits\n"
     ]
    },
    {
     "data": {
      "text/plain": [
       "RandomizedSearchCV(cv=3, estimator=RandomForestClassifier(), n_iter=100,\n",
       "                   n_jobs=-1,\n",
       "                   param_distributions={'bootstrap': [True, False],\n",
       "                                        'max_depth': [10, 20, 30, 40, 50, 60,\n",
       "                                                      70, 80, 90, 100, 110,\n",
       "                                                      None],\n",
       "                                        'max_features': ['auto', 'sqrt'],\n",
       "                                        'min_samples_leaf': [1, 2, 4],\n",
       "                                        'min_samples_split': [2, 5, 10],\n",
       "                                        'n_estimators': [200, 400, 600, 800,\n",
       "                                                         1000, 1200, 1400, 1600,\n",
       "                                                         1800, 2000]},\n",
       "                   random_state=42, verbose=2)"
      ]
     },
     "execution_count": 76,
     "metadata": {},
     "output_type": "execute_result"
    }
   ],
   "source": [
    "rf_random.fit(x_train, y_train)"
   ]
  },
  {
   "cell_type": "code",
   "execution_count": 77,
   "id": "b1b0d50e",
   "metadata": {},
   "outputs": [
    {
     "data": {
      "text/plain": [
       "{'n_estimators': 400,\n",
       " 'min_samples_split': 10,\n",
       " 'min_samples_leaf': 4,\n",
       " 'max_features': 'sqrt',\n",
       " 'max_depth': 90,\n",
       " 'bootstrap': True}"
      ]
     },
     "execution_count": 77,
     "metadata": {},
     "output_type": "execute_result"
    }
   ],
   "source": [
    "rf_random.best_params_"
   ]
  },
  {
   "cell_type": "code",
   "execution_count": 83,
   "id": "46afbdf5",
   "metadata": {},
   "outputs": [],
   "source": [
    "best_random = rf_random.best_estimator_"
   ]
  },
  {
   "cell_type": "code",
   "execution_count": 84,
   "id": "5ac42347",
   "metadata": {},
   "outputs": [
    {
     "data": {
      "text/plain": [
       "RandomForestClassifier(max_depth=90, max_features='sqrt', min_samples_leaf=4,\n",
       "                       min_samples_split=10, n_estimators=400)"
      ]
     },
     "execution_count": 84,
     "metadata": {},
     "output_type": "execute_result"
    }
   ],
   "source": [
    "best_random.fit(x_train, y_train)"
   ]
  },
  {
   "cell_type": "code",
   "execution_count": 85,
   "id": "fda89a02",
   "metadata": {},
   "outputs": [
    {
     "data": {
      "text/plain": [
       "0.8977272727272727"
      ]
     },
     "execution_count": 85,
     "metadata": {},
     "output_type": "execute_result"
    }
   ],
   "source": [
    "best_random.score(x_train, y_train)"
   ]
  },
  {
   "cell_type": "code",
   "execution_count": 86,
   "id": "34d39d5b",
   "metadata": {},
   "outputs": [],
   "source": [
    "y_pred_best_rand = best_random.predict(x_test)"
   ]
  },
  {
   "cell_type": "code",
   "execution_count": 87,
   "id": "cb264fca",
   "metadata": {},
   "outputs": [
    {
     "data": {
      "text/plain": [
       "0.42045454545454547"
      ]
     },
     "execution_count": 87,
     "metadata": {},
     "output_type": "execute_result"
    }
   ],
   "source": [
    "accuracy_score_best_rand_pred = accuracy_score(y_test, y_pred_best_rand)\n",
    "accuracy_score_best_rand_pred"
   ]
  },
  {
   "cell_type": "markdown",
   "id": "58d030d4",
   "metadata": {},
   "source": [
    "### Grid Search and Cross Validation for hyperparameter tuning"
   ]
  },
  {
   "cell_type": "code",
   "execution_count": 88,
   "id": "efb8ea9f",
   "metadata": {},
   "outputs": [],
   "source": [
    "from sklearn.model_selection import GridSearchCV\n",
    "\n",
    "# Create the parameter grid based on the results of random search \n",
    "param_grid = {\n",
    "    'bootstrap': [True],\n",
    "    'max_depth': [80, 90, 100, 110],\n",
    "    'min_samples_leaf': [3, 4, 5],\n",
    "    'min_samples_split': [8, 10, 12],\n",
    "    'n_estimators': [100, 200, 300, 1000]\n",
    "}\n",
    "# Create a based model\n",
    "# Instantiate the grid search model\n",
    "grid_search = GridSearchCV(estimator = rand_forest, param_grid = param_grid, \n",
    "                          cv = 3, n_jobs = -1, verbose = 2)"
   ]
  },
  {
   "cell_type": "code",
   "execution_count": 89,
   "id": "485fd0c3",
   "metadata": {},
   "outputs": [
    {
     "name": "stdout",
     "output_type": "stream",
     "text": [
      "Fitting 3 folds for each of 144 candidates, totalling 432 fits\n"
     ]
    },
    {
     "data": {
      "text/plain": [
       "GridSearchCV(cv=3, estimator=RandomForestClassifier(), n_jobs=-1,\n",
       "             param_grid={'bootstrap': [True], 'max_depth': [80, 90, 100, 110],\n",
       "                         'min_samples_leaf': [3, 4, 5],\n",
       "                         'min_samples_split': [8, 10, 12],\n",
       "                         'n_estimators': [100, 200, 300, 1000]},\n",
       "             verbose=2)"
      ]
     },
     "execution_count": 89,
     "metadata": {},
     "output_type": "execute_result"
    }
   ],
   "source": [
    "grid_search.fit(x_train, y_train)"
   ]
  },
  {
   "cell_type": "code",
   "execution_count": 90,
   "id": "19c11f4d",
   "metadata": {},
   "outputs": [
    {
     "data": {
      "text/plain": [
       "RandomForestClassifier(max_depth=90, min_samples_leaf=3, min_samples_split=12,\n",
       "                       n_estimators=200)"
      ]
     },
     "execution_count": 90,
     "metadata": {},
     "output_type": "execute_result"
    }
   ],
   "source": [
    "grid_search.best_estimator_"
   ]
  },
  {
   "cell_type": "code",
   "execution_count": 91,
   "id": "8d1bc1fe",
   "metadata": {},
   "outputs": [],
   "source": [
    "grid_search_rand_forest = grid_search.best_estimator_"
   ]
  },
  {
   "cell_type": "code",
   "execution_count": 92,
   "id": "021b6ec6",
   "metadata": {},
   "outputs": [
    {
     "data": {
      "text/plain": [
       "RandomForestClassifier(max_depth=90, min_samples_leaf=3, min_samples_split=12,\n",
       "                       n_estimators=200)"
      ]
     },
     "execution_count": 92,
     "metadata": {},
     "output_type": "execute_result"
    }
   ],
   "source": [
    "grid_search_rand_forest.fit(x_train, y_train)"
   ]
  },
  {
   "cell_type": "code",
   "execution_count": 93,
   "id": "92a377cc",
   "metadata": {},
   "outputs": [],
   "source": [
    "y_pred_grid_search_rand_forest = grid_search_rand_forest.predict(x_test)"
   ]
  },
  {
   "cell_type": "code",
   "execution_count": 94,
   "id": "f752a2b0",
   "metadata": {},
   "outputs": [
    {
     "data": {
      "text/plain": [
       "0.42045454545454547"
      ]
     },
     "execution_count": 94,
     "metadata": {},
     "output_type": "execute_result"
    }
   ],
   "source": [
    "accuracy_score_grid_search_rand_forest = accuracy_score(y_test, y_pred_grid_search_rand_forest)\n",
    "accuracy_score_grid_search_rand_forest"
   ]
  },
  {
   "cell_type": "code",
   "execution_count": null,
   "id": "15b0bc0b",
   "metadata": {},
   "outputs": [],
   "source": []
  },
  {
   "cell_type": "markdown",
   "id": "3ce2bc86",
   "metadata": {},
   "source": [
    "### Decision tree classifier"
   ]
  },
  {
   "cell_type": "code",
   "execution_count": 95,
   "id": "8bfc7c44",
   "metadata": {},
   "outputs": [],
   "source": [
    "from sklearn.tree import DecisionTreeClassifier\n",
    "\n",
    "decision_tree = DecisionTreeClassifier()"
   ]
  },
  {
   "cell_type": "code",
   "execution_count": 96,
   "id": "fc27e0b7",
   "metadata": {},
   "outputs": [
    {
     "data": {
      "text/plain": [
       "DecisionTreeClassifier()"
      ]
     },
     "execution_count": 96,
     "metadata": {},
     "output_type": "execute_result"
    }
   ],
   "source": [
    "decision_tree.fit(x_train, y_train)"
   ]
  },
  {
   "cell_type": "code",
   "execution_count": 97,
   "id": "371b391b",
   "metadata": {},
   "outputs": [
    {
     "data": {
      "text/plain": [
       "1.0"
      ]
     },
     "execution_count": 97,
     "metadata": {},
     "output_type": "execute_result"
    }
   ],
   "source": [
    "decision_tree.score(x_train, y_train)"
   ]
  },
  {
   "cell_type": "code",
   "execution_count": 98,
   "id": "921b85cc",
   "metadata": {},
   "outputs": [],
   "source": [
    "pred_y_decision_tree = decision_tree.predict(x_test)"
   ]
  },
  {
   "cell_type": "code",
   "execution_count": 99,
   "id": "8546f2e1",
   "metadata": {},
   "outputs": [
    {
     "data": {
      "text/plain": [
       "0.32954545454545453"
      ]
     },
     "execution_count": 99,
     "metadata": {},
     "output_type": "execute_result"
    }
   ],
   "source": [
    "accuracy_score_decision_tree = accuracy_score(y_test, pred_y_decision_tree)\n",
    "accuracy_score_decision_tree"
   ]
  },
  {
   "cell_type": "markdown",
   "id": "d28a750d",
   "metadata": {},
   "source": [
    "### Gradient Boosting"
   ]
  },
  {
   "cell_type": "code",
   "execution_count": 100,
   "id": "406d0b9a",
   "metadata": {},
   "outputs": [],
   "source": [
    "from sklearn.ensemble import GradientBoostingClassifier"
   ]
  },
  {
   "cell_type": "code",
   "execution_count": 101,
   "id": "aabcaea6",
   "metadata": {},
   "outputs": [],
   "source": [
    "grad_boosting = GradientBoostingClassifier(n_estimators=100, learning_rate=1.0, max_depth=5, random_state=0)"
   ]
  },
  {
   "cell_type": "code",
   "execution_count": 102,
   "id": "4d9c952b",
   "metadata": {},
   "outputs": [
    {
     "data": {
      "text/plain": [
       "GradientBoostingClassifier(learning_rate=1.0, max_depth=5, random_state=0)"
      ]
     },
     "execution_count": 102,
     "metadata": {},
     "output_type": "execute_result"
    }
   ],
   "source": [
    "grad_boosting.fit(x_train, y_train)"
   ]
  },
  {
   "cell_type": "code",
   "execution_count": 103,
   "id": "b3bc48d2",
   "metadata": {},
   "outputs": [],
   "source": [
    "y_pred_grad_boosting = grad_boosting.predict(x_test)"
   ]
  },
  {
   "cell_type": "code",
   "execution_count": 104,
   "id": "065622e7",
   "metadata": {},
   "outputs": [
    {
     "data": {
      "text/plain": [
       "0.42045454545454547"
      ]
     },
     "execution_count": 104,
     "metadata": {},
     "output_type": "execute_result"
    }
   ],
   "source": [
    "accuracy_score_grad_boosting = accuracy_score(y_test, y_pred_grad_boosting)\n",
    "accuracy_score_grad_boosting"
   ]
  },
  {
   "cell_type": "markdown",
   "id": "36862c5a",
   "metadata": {},
   "source": [
    "### Adaboosting"
   ]
  },
  {
   "cell_type": "code",
   "execution_count": 105,
   "id": "431097b1",
   "metadata": {},
   "outputs": [],
   "source": [
    "ada_boosting = AdaBoostClassifier()"
   ]
  },
  {
   "cell_type": "code",
   "execution_count": 106,
   "id": "de58315b",
   "metadata": {},
   "outputs": [
    {
     "data": {
      "text/plain": [
       "AdaBoostClassifier()"
      ]
     },
     "execution_count": 106,
     "metadata": {},
     "output_type": "execute_result"
    }
   ],
   "source": [
    "ada_boosting.fit(x_train, y_train)"
   ]
  },
  {
   "cell_type": "code",
   "execution_count": 107,
   "id": "8512f885",
   "metadata": {},
   "outputs": [],
   "source": [
    "y_pred_ada_boosting = ada_boosting.predict(x_test)"
   ]
  },
  {
   "cell_type": "code",
   "execution_count": 108,
   "id": "8faa5783",
   "metadata": {},
   "outputs": [
    {
     "data": {
      "text/plain": [
       "0.38636363636363635"
      ]
     },
     "execution_count": 108,
     "metadata": {},
     "output_type": "execute_result"
    }
   ],
   "source": [
    "accuracy_score_ada_boosting = accuracy_score(y_test, y_pred_ada_boosting)\n",
    "accuracy_score_ada_boosting"
   ]
  },
  {
   "cell_type": "markdown",
   "id": "ee921131",
   "metadata": {},
   "source": [
    "### Prediction of a match between Best Team vs EPL Winner"
   ]
  },
  {
   "cell_type": "code",
   "execution_count": 120,
   "id": "569db8a0",
   "metadata": {},
   "outputs": [],
   "source": [
    "import csv\n",
    "with open('best_team_overall.csv', newline='') as csvfile:\n",
    "    reader = csv.reader(csvfile, delimiter = ' ', quotechar = '|')\n",
    "    for row in reader:\n",
    "        overall_data = row"
   ]
  },
  {
   "cell_type": "code",
   "execution_count": 151,
   "id": "533cb863",
   "metadata": {},
   "outputs": [
    {
     "data": {
      "text/plain": [
       "array([90., 86., 84., 82., 81., 94., 89., 87., 93., 90., 88.])"
      ]
     },
     "execution_count": 151,
     "metadata": {},
     "output_type": "execute_result"
    }
   ],
   "source": [
    "overall_best_team = np.array([float(s) for s in overall_data[0].split(',')])\n",
    "overall_best_team"
   ]
  },
  {
   "cell_type": "code",
   "execution_count": 152,
   "id": "8f18f0b1",
   "metadata": {},
   "outputs": [
    {
     "data": {
      "text/plain": [
       "array([90., 86., 84., 82., 81., 94., 89., 87., 93., 90., 88.])"
      ]
     },
     "execution_count": 152,
     "metadata": {},
     "output_type": "execute_result"
    }
   ],
   "source": [
    "overall_best_team"
   ]
  },
  {
   "cell_type": "code",
   "execution_count": 130,
   "id": "72ed3dfd",
   "metadata": {},
   "outputs": [
    {
     "data": {
      "text/plain": [
       "Index(['home_player_1_overall', 'home_player_2_overall',\n",
       "       'home_player_3_overall', 'home_player_4_overall',\n",
       "       'home_player_5_overall', 'home_player_6_overall',\n",
       "       'home_player_7_overall', 'home_player_8_overall',\n",
       "       'home_player_9_overall', 'home_player_10_overall',\n",
       "       'home_player_11_overall', 'away_player_1_overall',\n",
       "       'away_player_2_overall', 'away_player_3_overall',\n",
       "       'away_player_4_overall', 'away_player_5_overall',\n",
       "       'away_player_6_overall', 'away_player_7_overall',\n",
       "       'away_player_8_overall', 'away_player_9_overall',\n",
       "       'away_player_10_overall', 'away_player_11_overall'],\n",
       "      dtype='object')"
      ]
     },
     "execution_count": 130,
     "metadata": {},
     "output_type": "execute_result"
    }
   ],
   "source": [
    "x_test.columns"
   ]
  },
  {
   "cell_type": "markdown",
   "id": "ae7b3bc4",
   "metadata": {},
   "source": [
    "### We simulate the result of the best team against EPL giant Chelsea"
   ]
  },
  {
   "cell_type": "code",
   "execution_count": 173,
   "id": "a62d1447",
   "metadata": {},
   "outputs": [
    {
     "data": {
      "text/plain": [
       "array([86., 80., 78., 85., 82., 77., 87., 82., 84., 89., 85.])"
      ]
     },
     "execution_count": 173,
     "metadata": {},
     "output_type": "execute_result"
    }
   ],
   "source": [
    "opponent_team_overall"
   ]
  },
  {
   "cell_type": "code",
   "execution_count": 172,
   "id": "3da53605",
   "metadata": {},
   "outputs": [],
   "source": [
    "#Chelsea Players Overall\n",
    "opponent_team_overall = prepared_df.loc[121].values[11:22]"
   ]
  },
  {
   "cell_type": "code",
   "execution_count": 179,
   "id": "565966dd",
   "metadata": {},
   "outputs": [
    {
     "data": {
      "text/plain": [
       "array([90., 86., 84., 82., 81., 94., 89., 87., 93., 90., 88.])"
      ]
     },
     "execution_count": 179,
     "metadata": {},
     "output_type": "execute_result"
    }
   ],
   "source": [
    "overall_best_team"
   ]
  },
  {
   "cell_type": "code",
   "execution_count": 174,
   "id": "c97460a8",
   "metadata": {},
   "outputs": [],
   "source": [
    "custom_prediction = np.append(overall_best_team, opponent_team_overall)"
   ]
  },
  {
   "cell_type": "code",
   "execution_count": 175,
   "id": "5915ce8e",
   "metadata": {},
   "outputs": [
    {
     "data": {
      "text/plain": [
       "array([90., 86., 84., 82., 81., 94., 89., 87., 93., 90., 88., 86., 80.,\n",
       "       78., 85., 82., 77., 87., 82., 84., 89., 85.])"
      ]
     },
     "execution_count": 175,
     "metadata": {},
     "output_type": "execute_result"
    }
   ],
   "source": [
    "custom_prediction"
   ]
  },
  {
   "cell_type": "code",
   "execution_count": 176,
   "id": "5e219daa",
   "metadata": {},
   "outputs": [],
   "source": [
    "testing_df = pd.DataFrame([custom_prediction],\\\n",
    "                          columns=x_test.columns)"
   ]
  },
  {
   "cell_type": "code",
   "execution_count": 177,
   "id": "12d13dcb",
   "metadata": {},
   "outputs": [
    {
     "data": {
      "text/html": [
       "<div>\n",
       "<style scoped>\n",
       "    .dataframe tbody tr th:only-of-type {\n",
       "        vertical-align: middle;\n",
       "    }\n",
       "\n",
       "    .dataframe tbody tr th {\n",
       "        vertical-align: top;\n",
       "    }\n",
       "\n",
       "    .dataframe thead th {\n",
       "        text-align: right;\n",
       "    }\n",
       "</style>\n",
       "<table border=\"1\" class=\"dataframe\">\n",
       "  <thead>\n",
       "    <tr style=\"text-align: right;\">\n",
       "      <th></th>\n",
       "      <th>home_player_1_overall</th>\n",
       "      <th>home_player_2_overall</th>\n",
       "      <th>home_player_3_overall</th>\n",
       "      <th>home_player_4_overall</th>\n",
       "      <th>home_player_5_overall</th>\n",
       "      <th>home_player_6_overall</th>\n",
       "      <th>home_player_7_overall</th>\n",
       "      <th>home_player_8_overall</th>\n",
       "      <th>home_player_9_overall</th>\n",
       "      <th>home_player_10_overall</th>\n",
       "      <th>...</th>\n",
       "      <th>away_player_2_overall</th>\n",
       "      <th>away_player_3_overall</th>\n",
       "      <th>away_player_4_overall</th>\n",
       "      <th>away_player_5_overall</th>\n",
       "      <th>away_player_6_overall</th>\n",
       "      <th>away_player_7_overall</th>\n",
       "      <th>away_player_8_overall</th>\n",
       "      <th>away_player_9_overall</th>\n",
       "      <th>away_player_10_overall</th>\n",
       "      <th>away_player_11_overall</th>\n",
       "    </tr>\n",
       "  </thead>\n",
       "  <tbody>\n",
       "    <tr>\n",
       "      <th>0</th>\n",
       "      <td>90.0</td>\n",
       "      <td>86.0</td>\n",
       "      <td>84.0</td>\n",
       "      <td>82.0</td>\n",
       "      <td>81.0</td>\n",
       "      <td>94.0</td>\n",
       "      <td>89.0</td>\n",
       "      <td>87.0</td>\n",
       "      <td>93.0</td>\n",
       "      <td>90.0</td>\n",
       "      <td>...</td>\n",
       "      <td>80.0</td>\n",
       "      <td>78.0</td>\n",
       "      <td>85.0</td>\n",
       "      <td>82.0</td>\n",
       "      <td>77.0</td>\n",
       "      <td>87.0</td>\n",
       "      <td>82.0</td>\n",
       "      <td>84.0</td>\n",
       "      <td>89.0</td>\n",
       "      <td>85.0</td>\n",
       "    </tr>\n",
       "  </tbody>\n",
       "</table>\n",
       "<p>1 rows × 22 columns</p>\n",
       "</div>"
      ],
      "text/plain": [
       "   home_player_1_overall  home_player_2_overall  home_player_3_overall  \\\n",
       "0                   90.0                   86.0                   84.0   \n",
       "\n",
       "   home_player_4_overall  home_player_5_overall  home_player_6_overall  \\\n",
       "0                   82.0                   81.0                   94.0   \n",
       "\n",
       "   home_player_7_overall  home_player_8_overall  home_player_9_overall  \\\n",
       "0                   89.0                   87.0                   93.0   \n",
       "\n",
       "   home_player_10_overall  ...  away_player_2_overall  away_player_3_overall  \\\n",
       "0                    90.0  ...                   80.0                   78.0   \n",
       "\n",
       "   away_player_4_overall  away_player_5_overall  away_player_6_overall  \\\n",
       "0                   85.0                   82.0                   77.0   \n",
       "\n",
       "   away_player_7_overall  away_player_8_overall  away_player_9_overall  \\\n",
       "0                   87.0                   82.0                   84.0   \n",
       "\n",
       "   away_player_10_overall  away_player_11_overall  \n",
       "0                    89.0                    85.0  \n",
       "\n",
       "[1 rows x 22 columns]"
      ]
     },
     "execution_count": 177,
     "metadata": {},
     "output_type": "execute_result"
    }
   ],
   "source": [
    "testing_df"
   ]
  },
  {
   "cell_type": "code",
   "execution_count": 178,
   "id": "a76bdae7",
   "metadata": {},
   "outputs": [
    {
     "data": {
      "text/plain": [
       "array([3.])"
      ]
     },
     "execution_count": 178,
     "metadata": {},
     "output_type": "execute_result"
    }
   ],
   "source": [
    "logisticRegr.predict(testing_df)"
   ]
  },
  {
   "cell_type": "code",
   "execution_count": 181,
   "id": "c91c76a1",
   "metadata": {},
   "outputs": [
    {
     "data": {
      "text/plain": [
       "array([[0.16941542, 0.09970288, 0.7308817 ]])"
      ]
     },
     "execution_count": 181,
     "metadata": {},
     "output_type": "execute_result"
    }
   ],
   "source": [
    "logisticRegr.predict_proba(testing_df)"
   ]
  },
  {
   "cell_type": "markdown",
   "id": "ccf09be8",
   "metadata": {},
   "source": [
    "### The Logistic Regression model predicts that the Best Custom Team we built will win this match against Chelsea. The model shows 16.9% probability of losing 9.9% probability of drawing and 73% probability of winning the game"
   ]
  }
 ],
 "metadata": {
  "kernelspec": {
   "display_name": "first_env",
   "language": "python",
   "name": "first_env"
  },
  "language_info": {
   "codemirror_mode": {
    "name": "ipython",
    "version": 3
   },
   "file_extension": ".py",
   "mimetype": "text/x-python",
   "name": "python",
   "nbconvert_exporter": "python",
   "pygments_lexer": "ipython3",
   "version": "3.8.12"
  }
 },
 "nbformat": 4,
 "nbformat_minor": 5
}
